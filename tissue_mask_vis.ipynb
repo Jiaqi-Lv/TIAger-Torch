{
 "cells": [
  {
   "cell_type": "code",
   "execution_count": 14,
   "metadata": {},
   "outputs": [],
   "source": [
    "import numpy as np\n",
    "from tiatoolbox.wsicore.wsireader import VirtualWSIReader, WSIReader\n",
    "import os\n",
    "import matplotlib.pyplot as plt\n",
    "import cv2\n",
    "from utils import mm2_to_px, dist_to_px, get_tumor_stroma_mask, slide_nms\n",
    "import skimage\n",
    "from PIL import Image\n",
    "import shutil\n",
    "import json\n",
    "from tiatoolbox.annotation.storage import Annotation, SQLiteStore\n",
    "from shapely import Point, Polygon, box"
   ]
  },
  {
   "cell_type": "code",
   "execution_count": null,
   "metadata": {},
   "outputs": [],
   "source": [
    "torch_seg_out_path = \"output/seg_out\"\n",
    "tf_seg_out_path = \"tf_seg_out/tempout\"\n",
    "\n",
    "wsi_dir = \"/home/u1910100/Documents/Tiger_Data/wsitils/images\"\n",
    "total = 0\n",
    "\n",
    "for image in os.listdir(wsi_dir):\n",
    "    wsi_name = os.path.splitext(image)[0]\n",
    "    tf_bulk_path = os.path.join(tf_seg_out_path, f\"{wsi_name}_bulk.npy\")\n",
    "    if not os.path.exists(tf_bulk_path):\n",
    "        print(f\"{tf_bulk_path} does not exist\")\n",
    "        continue\n",
    "    fig, axes = plt.subplots(2, 2)\n",
    "    tf_bulk_mask = np.load(tf_bulk_path)\n",
    "    wsi_path = os.path.join(wsi_dir, f\"{wsi_name}.tif\")\n",
    "\n",
    "    wsi_reader = WSIReader.open(wsi_path)\n",
    "    thumb = wsi_reader.slide_thumbnail(resolution=0.3125, units=\"power\")\n",
    "\n",
    "    # stroma_path = os.path.join(seg_out_path, f\"{wsi_name}_stroma.npy\")\n",
    "    tumor_path = os.path.join(tf_seg_out_path, f\"{wsi_name}_bulk_tumor.npy\")\n",
    "    tumor_mask = np.load(tumor_path)\n",
    "    stroma_path = os.path.join(tf_seg_out_path, f\"{wsi_name}_bulk_stroma.npy\")\n",
    "    stroma_mask = np.load(stroma_path)\n",
    "\n",
    "    axes[0, 0].imshow(thumb)\n",
    "    axes[0, 0].title.set_text(wsi_name)\n",
    "    axes[0, 0].axis(\"off\")\n",
    "    axes[0, 1].imshow(tf_bulk_mask)\n",
    "    axes[0, 1].title.set_text(\"bulk mask\")\n",
    "    axes[0, 1].axis(\"off\")\n",
    "    axes[1, 0].imshow(stroma_mask)\n",
    "    axes[1, 0].title.set_text(\"bulk stroma\")\n",
    "    axes[1, 0].axis(\"off\")\n",
    "    axes[1, 1].imshow(tumor_mask)\n",
    "    axes[1, 1].title.set_text(\"bulk tumor\")\n",
    "    axes[1, 1].axis(\"off\")\n",
    "    plt.show()\n",
    "    save_path = os.path.join(eval_dir, f\"{wsi_name}.png\")\n",
    "    fig.savefig(\n",
    "        save_path,\n",
    "        bbox_inches=\"tight\",\n",
    "        pad_inches=0,\n",
    "    )\n",
    "    fig.clf()\n",
    "    plt.close()\n",
    "\n",
    "    total += 1\n",
    "\n",
    "print(total)"
   ]
  },
  {
   "cell_type": "code",
   "execution_count": 15,
   "metadata": {},
   "outputs": [],
   "source": [
    "torch_seg_out_path = \"output/seg_out\"\n",
    "wsi_dir = \"/home/u1910100/Documents/Tiger_Data/wsitils/images\"\n",
    "overlay = \"/home/u1910100/Documents/vis/overlays\""
   ]
  },
  {
   "cell_type": "code",
   "execution_count": null,
   "metadata": {},
   "outputs": [],
   "source": [
    "names = [\n",
    "    \"105S\",\n",
    "    \"123S\",\n",
    "    \"248B\",\n",
    "    \"TC_S01_P000052_C0001_B101\",\n",
    "    \"TC_S01_P000124_C0001_B101\",\n",
    "]\n",
    "\n",
    "for name in names:\n",
    "    tumor_mask = np.load(os.path.join(torch_seg_out_path, f\"{name}_tumor.npy\"))\n",
    "    stroma_mask = np.load(os.path.join(torch_seg_out_path, f\"{name}_stroma.npy\"))\n",
    "    stroma_bulk = np.load(os.path.join(torch_seg_out_path, f\"{name}_stroma_bulk.npy\"))\n",
    "\n",
    "    heatmap = np.zeros(\n",
    "        shape=(tumor_mask.shape[0], tumor_mask.shape[1], 3), dtype=np.uint8\n",
    "    )\n",
    "    heatmap[:, :, 0] = np.where(stroma_bulk == 1, 255, 0)\n",
    "    heatmap[:, :, 1] = np.where(tumor_mask == 1, 255, 0)\n",
    "    heatmap[:, :, 2] = np.where(stroma_mask == 1, 255, 0)\n",
    "\n",
    "    plt.imshow(heatmap)\n",
    "    plt.show()\n",
    "\n",
    "    heatmap_img = Image.fromarray(heatmap)\n",
    "    heatmap_img.save(os.path.join(overlay, f\"{name}.png\"))\n",
    "\n",
    "    # shutil.copyfile(f\"{wsi_dir}/{name}.tif\", os.path.join(overlay, f\"{name}.tiff\"))"
   ]
  },
  {
   "cell_type": "code",
   "execution_count": 16,
   "metadata": {},
   "outputs": [],
   "source": [
    "def points_to_annotation_store(points: list):\n",
    "    \"\"\"\n",
    "    Args: points(list): list of (x,y) coordinates\n",
    "    \"\"\"\n",
    "    annotation_store = SQLiteStore()\n",
    "\n",
    "    for coord in points:\n",
    "        annotation_store.append(\n",
    "            Annotation(\n",
    "                geometry=Polygon.from_bounds(\n",
    "                    coord[0] - 8, coord[1] - 8, coord[0] + 8, coord[1] + 8\n",
    "                ),\n",
    "                properties={\"class\": 1, \"type\": \"TIL\"},\n",
    "            )\n",
    "            # Annotation(geometry=Point(coord[0], coord[1]), properties={\"class\": 1, \"type\": \"TIL\"})\n",
    "        )\n",
    "\n",
    "    return annotation_store"
   ]
  },
  {
   "cell_type": "code",
   "execution_count": 17,
   "metadata": {},
   "outputs": [
    {
     "name": "stderr",
     "output_type": "stream",
     "text": [
      "|2024-05-08|09:30:35.657| [WARNING] Metadata: Falling back to TIFF resolution tag for microns-per-pixel (MPP).\n",
      "|2024-05-08|09:30:35.657| [WARNING] Metadata: Objective power inferred from microns-per-pixel (MPP).\n"
     ]
    },
    {
     "name": "stdout",
     "output_type": "stream",
     "text": [
      "14312\n"
     ]
    }
   ],
   "source": [
    "wsi_without_ext = \"105S\"\n",
    "cell_points_dir = \"/home/u1910100/GitHub/TIAger-Torch/output/det_out\"\n",
    "cell_points_path = os.path.join(cell_points_dir, f\"{wsi_without_ext}_points.json\")\n",
    "wsi_path = os.path.join(wsi_dir, f\"{wsi_without_ext}.tif\")\n",
    "\n",
    "with open(cell_points_path, \"r\") as fp:\n",
    "    cell_points = json.load(fp)\n",
    "\n",
    "nms_points = slide_nms(slide_path=wsi_path, cell_points=cell_points, tile_size=2048)\n",
    "print(len(nms_points))\n",
    "store = points_to_annotation_store(nms_points)\n",
    "store.dump(os.path.join(overlay, f\"{wsi_without_ext}.db\"))"
   ]
  }
 ],
 "metadata": {
  "kernelspec": {
   "display_name": "TIAToolBox",
   "language": "python",
   "name": "python3"
  },
  "language_info": {
   "codemirror_mode": {
    "name": "ipython",
    "version": 3
   },
   "file_extension": ".py",
   "mimetype": "text/x-python",
   "name": "python",
   "nbconvert_exporter": "python",
   "pygments_lexer": "ipython3",
   "version": "3.11.5"
  }
 },
 "nbformat": 4,
 "nbformat_minor": 2
}
