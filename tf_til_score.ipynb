{
 "cells": [
  {
   "cell_type": "code",
   "execution_count": 4,
   "metadata": {},
   "outputs": [],
   "source": [
    "import numpy as np\n",
    "import xml.etree.ElementTree as ET"
   ]
  },
  {
   "cell_type": "code",
   "execution_count": 28,
   "metadata": {},
   "outputs": [],
   "source": [
    "def dist_to_px(dist, spacing):\n",
    "    \"\"\"distance in um (or rather same unit as the spacing)\"\"\"\n",
    "    dist_px = int(round(dist / spacing))\n",
    "    return dist_px\n",
    "\n",
    "\n",
    "def mm2_to_px(mm2, spacing):\n",
    "    return (mm2 * 1e6) / spacing**2\n",
    "\n",
    "\n",
    "def px_to_mm(px: int, spacing: float):\n",
    "    return px * spacing / 1000\n",
    "\n",
    "\n",
    "def px_to_um2(px, spacing):\n",
    "    area_um2 = px * (spacing**2)\n",
    "    return area_um2\n",
    "\n",
    "\n",
    "def get_mask_area(slide, spacing=32):\n",
    "    \"\"\"Get the size of a mask in pixels where the mask is 1.\"\"\"\n",
    "    mask = np.load(slide)\n",
    "    counts = np.unique(mask, return_counts=True)\n",
    "    down = 6\n",
    "    area = counts[1][1] * down**2\n",
    "    return area\n",
    "\n",
    "\n",
    "def points_from_xml(xml_path):\n",
    "    tree = ET.parse(xml_path)\n",
    "    root = tree.getroot()\n",
    "    return len(root[0][0][0])\n",
    "\n",
    "\n",
    "def create_til_score(xml_path, bulk_path):\n",
    "    \"\"\"slide_level_nms\"\"\"\n",
    "\n",
    "    cell_count = points_from_xml(xml_path)\n",
    "    print(cell_count)\n",
    "\n",
    "    \"\"\"Compute TIL score and write to output\"\"\"\n",
    "    til_area = dist_to_px(4, 0.5) ** 2\n",
    "    tils_area = cell_count * til_area\n",
    "    stroma_area = get_mask_area(bulk_path)\n",
    "    tilscore = int((100 / int(stroma_area)) * int(tils_area))\n",
    "    tilscore = min(100, tilscore)\n",
    "    tilscore = max(0, tilscore)\n",
    "    print(f\"tilscore = {tilscore}\")"
   ]
  },
  {
   "cell_type": "code",
   "execution_count": 37,
   "metadata": {},
   "outputs": [
    {
     "name": "stdout",
     "output_type": "stream",
     "text": [
      "14554\n",
      "tilscore = 100\n"
     ]
    }
   ],
   "source": [
    "xml_path = \"/home/u1910100/GitHub/TIAger-Torch/xml/162S.xml\"\n",
    "bulk_path = \"/home/u1910100/GitHub/TIAger-Torch/tf_seg_out/tempout/162S_bulk.npy\"\n",
    "create_til_score(xml_path, bulk_path)"
   ]
  }
 ],
 "metadata": {
  "kernelspec": {
   "display_name": "TIAToolBox",
   "language": "python",
   "name": "python3"
  },
  "language_info": {
   "codemirror_mode": {
    "name": "ipython",
    "version": 3
   },
   "file_extension": ".py",
   "mimetype": "text/x-python",
   "name": "python",
   "nbconvert_exporter": "python",
   "pygments_lexer": "ipython3",
   "version": "3.11.5"
  }
 },
 "nbformat": 4,
 "nbformat_minor": 2
}
