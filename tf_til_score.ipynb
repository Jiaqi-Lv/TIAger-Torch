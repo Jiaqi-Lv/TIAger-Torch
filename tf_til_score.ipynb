{
 "cells": [
  {
   "cell_type": "code",
   "execution_count": null,
   "metadata": {},
   "outputs": [],
   "source": [
    "import numpy as np\n",
    "import xml.etree.ElementTree as ET\n",
    "import os\n",
    "import pandas as pd\n",
    "import json\n",
    "import scipy.stats"
   ]
  },
  {
   "cell_type": "code",
   "execution_count": null,
   "metadata": {},
   "outputs": [],
   "source": [
    "def dist_to_px(dist, spacing):\n",
    "    \"\"\"distance in um (or rather same unit as the spacing)\"\"\"\n",
    "    dist_px = int(round(dist / spacing))\n",
    "    return dist_px\n",
    "\n",
    "\n",
    "def mm2_to_px(mm2, spacing):\n",
    "    return (mm2 * 1e6) / spacing**2\n",
    "\n",
    "\n",
    "def px_to_mm(px: int, spacing: float):\n",
    "    return px * spacing / 1000\n",
    "\n",
    "\n",
    "def px_to_um2(px, spacing):\n",
    "    area_um2 = px * (spacing**2)\n",
    "    return area_um2\n",
    "\n",
    "\n",
    "def get_mask_area(slide, spacing=32):\n",
    "    \"\"\"Get the size of a mask in pixels where the mask is 1.\"\"\"\n",
    "    mask = np.load(slide)\n",
    "    counts = np.unique(mask, return_counts=True)\n",
    "    down = 6\n",
    "    area = counts[1][1] * down**2\n",
    "    return area\n",
    "\n",
    "\n",
    "def points_from_xml(xml_path):\n",
    "    tree = ET.parse(xml_path)\n",
    "    root = tree.getroot()\n",
    "    return len(root[0][0][0])\n",
    "\n",
    "\n",
    "def create_til_score(xml_path, bulk_path):\n",
    "    \"\"\"slide_level_nms\"\"\"\n",
    "\n",
    "    cell_count = points_from_xml(xml_path)\n",
    "    # print(cell_count)\n",
    "\n",
    "    \"\"\"Compute TIL score and write to output\"\"\"\n",
    "    til_area = dist_to_px(4, 0.5) ** 2\n",
    "    tils_area = cell_count * til_area\n",
    "    stroma_area = get_mask_area(bulk_path)\n",
    "    tilscore = int((100 / int(stroma_area)) * int(tils_area))\n",
    "    tilscore = min(100, tilscore)\n",
    "    tilscore = max(0, tilscore)\n",
    "    print(f\"tilscore = {tilscore}\")\n",
    "    return tilscore"
   ]
  },
  {
   "cell_type": "code",
   "execution_count": null,
   "metadata": {},
   "outputs": [],
   "source": [
    "xml_path = \"/home/u1910100/GitHub/TIAger-Torch/xml/105S.xml\"\n",
    "bulk_path = \"/home/u1910100/GitHub/TIAger-Torch/tf_seg_out/tempout/105S_bulk.npy\"\n",
    "create_til_score(xml_path, bulk_path)"
   ]
  },
  {
   "cell_type": "code",
   "execution_count": null,
   "metadata": {},
   "outputs": [],
   "source": [
    "ground_truth = pd.read_csv(\n",
    "    \"/home/u1910100/Documents/Tiger_Data/wsitils/tiger-til-scores-wsitils.csv\"\n",
    ")\n",
    "# print(ground_truth['image-id'], ground_truth['tils-score'])\n",
    "\n",
    "til_score_dict = {}\n",
    "\n",
    "for i, row in ground_truth.iterrows():\n",
    "    id = row[\"image-id\"]\n",
    "    score = row[\"tils-score\"]\n",
    "    til_score_dict[id] = score\n",
    "\n",
    "print(til_score_dict)\n",
    "\n",
    "with open(\"ground_truth_tils.json\", \"w\") as file:\n",
    "    json.dump(til_score_dict, file)"
   ]
  },
  {
   "cell_type": "code",
   "execution_count": null,
   "metadata": {},
   "outputs": [],
   "source": [
    "xml_dir = \"/home/u1910100/GitHub/TIAger-Torch/xml\"\n",
    "pred_til_score_dict = {}\n",
    "\n",
    "for xml_file in os.listdir(xml_dir):\n",
    "    xml_path = os.path.join(xml_dir, xml_file)\n",
    "    slide_name = os.path.splitext(xml_file)[0]\n",
    "\n",
    "    bulk_path = (\n",
    "        f\"/home/u1910100/GitHub/TIAger-Torch/tf_seg_out/tempout/{slide_name}_bulk.npy\"\n",
    "    )\n",
    "    if not os.path.exists(bulk_path):\n",
    "        bulk_path = f\"/home/u1910100/GitHub/TIAger-Torch/tf_seg_out/tempout/{slide_name}_seg.npy\"\n",
    "    if not os.path.exists(bulk_path):\n",
    "        continue\n",
    "    score = create_til_score(xml_path, bulk_path)\n",
    "\n",
    "    pred_til_score_dict[slide_name] = score\n",
    "\n",
    "print(pred_til_score_dict)"
   ]
  },
  {
   "cell_type": "code",
   "execution_count": 29,
   "metadata": {},
   "outputs": [
    {
     "name": "stdout",
     "output_type": "stream",
     "text": [
      "81\n",
      "PearsonRResult(statistic=0.6958452429233689, pvalue=5.580753248587816e-13)\n"
     ]
    }
   ],
   "source": [
    "print(len(pred_til_score_dict))\n",
    "\n",
    "pred_tils = []\n",
    "true_tils = []\n",
    "for slide_id in pred_til_score_dict.keys():\n",
    "    pred_tils.append(pred_til_score_dict[slide_id])\n",
    "    true_tils.append(til_score_dict[slide_id])\n",
    "\n",
    "print(scipy.stats.pearsonr(true_tils, pred_tils))"
   ]
  }
 ],
 "metadata": {
  "kernelspec": {
   "display_name": "TIAToolBox",
   "language": "python",
   "name": "python3"
  },
  "language_info": {
   "codemirror_mode": {
    "name": "ipython",
    "version": 3
   },
   "file_extension": ".py",
   "mimetype": "text/x-python",
   "name": "python",
   "nbconvert_exporter": "python",
   "pygments_lexer": "ipython3",
   "version": "3.11.5"
  }
 },
 "nbformat": 4,
 "nbformat_minor": 2
}
