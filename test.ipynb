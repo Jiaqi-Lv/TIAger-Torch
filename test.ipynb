{
 "cells": [
  {
   "cell_type": "code",
   "execution_count": null,
   "metadata": {},
   "outputs": [],
   "source": [
    "import numpy as np\n",
    "from tiatoolbox.wsicore.wsireader import VirtualWSIReader, WSIReader\n",
    "import os\n",
    "import matplotlib.pyplot as plt\n",
    "import cv2\n",
    "from utils import mm2_to_px, dist_to_px\n",
    "import skimage\n",
    "from scipy.spatial import Delaunay\n",
    "from shapely.ops import polygonize, unary_union\n",
    "import math\n",
    "import shapely.geometry as geometry\n",
    "import shapely\n",
    "from PIL import Image, ImageDraw\n",
    "import tifffile as tiff\n",
    "from scipy.ndimage import zoom\n",
    "from tiatoolbox.tools.patchextraction import (\n",
    "    get_patch_extractor,\n",
    "    SlidingWindowPatchExtractor,\n",
    ")\n",
    "from tiatoolbox.utils.misc import imwrite\n",
    "\n",
    "# os.environ['PATH'] = \"/opt/ASAP/bin\" + \";\" + os.environ['PATH']\n",
    "import sys\n",
    "\n",
    "sys.path.append(\"/opt/ASAP/bin\")\n",
    "from wholeslidedata.interoperability.asap.imagewriter import (\n",
    "    WholeSlideMonochromeMaskWriter,\n",
    ")\n",
    "from config import DefaultConfig"
   ]
  },
  {
   "cell_type": "code",
   "execution_count": 22,
   "metadata": {},
   "outputs": [],
   "source": [
    "torch_seg_out_path = DefaultConfig.seg_out_dir\n",
    "wsi_dir = \"/home/u1910100/Documents/Tiger_Data/wsitils/images\"\n",
    "asap_mask_dir = \"/home/u1910100/Documents/Tiger_Data/wsitils/tissue-masks\"\n",
    "\n",
    "\n",
    "# wsi_name = \"TC_S01_P000004_C0001_B103.tif\"\n",
    "wsi_name = \"104S.tif\"\n",
    "wsi_name_without_ext = os.path.splitext(wsi_name)[0]\n",
    "\n",
    "asap_mask_path = os.path.join(asap_mask_dir, f\"{wsi_name_without_ext}_tissue.tif\")\n",
    "\n",
    "tumor_mask_path = os.path.join(torch_seg_out_path, f\"{wsi_name_without_ext}_tumor.npy\")\n",
    "stroma_mask_path = os.path.join(\n",
    "    torch_seg_out_path, f\"{wsi_name_without_ext}_stroma.npy\"\n",
    ")\n",
    "\n",
    "# reader = WSIReader.open(os.path.join(wsi_dir, wsi_name))\n",
    "# thumb = reader.slide_thumbnail(resolution=0.3125, units=\"power\")\n",
    "# plt.imshow(thumb)\n",
    "# plt.show()"
   ]
  },
  {
   "cell_type": "code",
   "execution_count": null,
   "metadata": {},
   "outputs": [],
   "source": [
    "mask = WSIReader.open(asap_mask_path)\n",
    "thumb = mask.slide_thumbnail(resolution=0.3125, units=\"power\")[:, :, 0]\n",
    "plt.imshow(thumb)\n",
    "plt.show()\n",
    "# factor = 64\n",
    "# downsampled_image = zoom(mask, (1/factor, 1/factor))\n",
    "# print(downsampled_image.shape)\n",
    "# print(downsampled_image.dtype)"
   ]
  },
  {
   "cell_type": "code",
   "execution_count": null,
   "metadata": {},
   "outputs": [],
   "source": [
    "tif = tiff.TiffFile(asap_mask_path)\n",
    "print(len(tif.pages))\n",
    "page = tif.pages[6]\n",
    "mask = page.asarray()\n",
    "\n",
    "plt.imshow(mask)\n",
    "plt.show()"
   ]
  },
  {
   "cell_type": "code",
   "execution_count": 21,
   "metadata": {},
   "outputs": [],
   "source": [
    "def convert_tissue_masks_for_l1(\n",
    "    wsi_name_without_ext, tumor_mask_path, stroma_mask_path\n",
    "):\n",
    "    # Masks are at 5x resolution\n",
    "    tumor_mask = np.load(tumor_mask_path)\n",
    "    stroma_mask = np.load(stroma_mask_path)\n",
    "\n",
    "    combined_mask = np.zeros_like(tumor_mask)\n",
    "    combined_mask[np.where(tumor_mask == 1)] = 1\n",
    "    combined_mask[np.where(stroma_mask == 1)] = 2\n",
    "\n",
    "    mask_shape = combined_mask.shape\n",
    "    patch_extractor = SlidingWindowPatchExtractor(\n",
    "        input_img=combined_mask, patch_size=(512, 512)\n",
    "    )\n",
    "\n",
    "    tif_save_path = os.path.join(\n",
    "        DefaultConfig.seg_out_dir, f\"{wsi_name_without_ext}.tif\"\n",
    "    )\n",
    "    writer = WholeSlideMonochromeMaskWriter()\n",
    "    writer.write(\n",
    "        path=tif_save_path,\n",
    "        spacing=0.5,\n",
    "        dimensions=(mask_shape[1] * 4, mask_shape[0] * 4),\n",
    "        tile_shape=(512 * 4, 512 * 4),\n",
    "    )\n",
    "    for i, patch in enumerate(patch_extractor):\n",
    "        # mask =\n",
    "        mask = cv2.resize(\n",
    "            patch[:, :, 0], (512 * 4, 512 * 4), interpolation=cv2.INTER_NEAREST\n",
    "        ).astype(\"uint8\")\n",
    "        x_start, y_start = (\n",
    "            patch_extractor.coordinate_list[i][0],\n",
    "            patch_extractor.coordinate_list[i][1],\n",
    "        )\n",
    "        writer.write_tile(tile=mask, coordinates=(int(x_start) * 4, int(y_start) * 4))\n",
    "    writer.save()"
   ]
  },
  {
   "cell_type": "code",
   "execution_count": 23,
   "metadata": {},
   "outputs": [
    {
     "name": "stderr",
     "output_type": "stream",
     "text": [
      "|2024-05-21|16:37:39.858| [WARNING] Raw data is None.\n",
      "|2024-05-21|16:37:39.858| [WARNING] Unknown scale (no objective_power or mpp)\n"
     ]
    },
    {
     "name": "stdout",
     "output_type": "stream",
     "text": [
      "Creating: /home/u1910100/Documents/Tiger_Data/prediction/seg_out/104S.tif....\n",
      "Spacing: 0.5\n",
      "Dimensions: (55552, 36352)\n",
      "Tile_shape: (2048, 2048)\n",
      "Total time was 13539\n",
      "Total reading time was 0\n",
      "Total base writing time was 5274\n",
      "Total pyramid downsampling time was 2\n",
      "Total pyramid writing time was 8265\n",
      "Total time determining min/max was 1014\n"
     ]
    }
   ],
   "source": [
    "from matplotlib.colors import ListedColormap\n",
    "\n",
    "cmap = ListedColormap([\"black\", \"red\", \"green\"])\n",
    "\n",
    "convert_tissue_masks_for_l1(wsi_name_without_ext, tumor_mask_path, stroma_mask_path)"
   ]
  }
 ],
 "metadata": {
  "kernelspec": {
   "display_name": "TIAToolBox",
   "language": "python",
   "name": "python3"
  },
  "language_info": {
   "codemirror_mode": {
    "name": "ipython",
    "version": 3
   },
   "file_extension": ".py",
   "mimetype": "text/x-python",
   "name": "python",
   "nbconvert_exporter": "python",
   "pygments_lexer": "ipython3",
   "version": "3.11.5"
  }
 },
 "nbformat": 4,
 "nbformat_minor": 2
}
