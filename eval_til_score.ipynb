{
 "cells": [
  {
   "cell_type": "code",
   "execution_count": 4,
   "metadata": {},
   "outputs": [],
   "source": [
    "import numpy as np\n",
    "import xml.etree.ElementTree as ET\n",
    "import os\n",
    "import pandas as pd\n",
    "import json\n",
    "import scipy.stats\n",
    "from utils import create_til_score\n",
    "from multiprocessing import Pool\n",
    "from tqdm.auto import tqdm"
   ]
  },
  {
   "cell_type": "code",
   "execution_count": 6,
   "metadata": {},
   "outputs": [
    {
     "name": "stdout",
     "output_type": "stream",
     "text": [
      "{'104S': 70, '105S': 10, '106S': 10, '107S': 5, '108S': 30, '110S': 1, '112B': 1, '121S': 5, '123S': 60, '126B': 10, '129S': 40, '132B': 1, '139B': 40, '146B': 1, '155B': 3, '159S': 1, '160B': 75, '161S': 20, '162S': 50, '165B': 1, '174S': 85, '175B': 20, '184B': 5, '205B': 1, '208B': 1, '211B': 20, '212B': 5, '214B': 1, '223B': 1, '224B': 40, '227S': 95, '228B': 20, '233B': 1, '236B': 70, '244B': 1, '247B': 10, '248B': 10, 'TC_S01_P000004_C0001_B103': 95, 'TC_S01_P000006_C0001_B206': 90, 'TC_S01_P000020_C0001_B207': 5, 'TC_S01_P000041_C0001_B101': 5, 'TC_S01_P000045_C0001_B106': 20, 'TC_S01_P000047_C0001_B101': 1, 'TC_S01_P000049_C0001_B101': 3, 'TC_S01_P000052_C0001_B101': 95, 'TC_S01_P000055_C0001_B101': 65, 'TC_S01_P000058_C0001_B101': 1, 'TC_S01_P000061_C0001_B101': 65, 'TC_S01_P000063_C0001_B101': 5, 'TC_S01_P000064_C0001_B101': 1, 'TC_S01_P000073_C0001_B101': 30, 'TC_S01_P000074_C0001_B101': 5, 'TC_S01_P000077_C0001_B101': 10, 'TC_S01_P000079_C0001_B101': 15, 'TC_S01_P000083_C0001_B101': 1, 'TC_S01_P000085_C0001_B101': 1, 'TC_S01_P000087_C0001_B101': 1, 'TC_S01_P000089_C0001_B101': 10, 'TC_S01_P000092_C0001_B101': 1, 'TC_S01_P000093_C0001_B101': 75, 'TC_S01_P000099_C0001_B101': 65, 'TC_S01_P000100_C0001_B101': 60, 'TC_S01_P000101_C0001_B101': 20, 'TC_S01_P000103_C0001_B101': 10, 'TC_S01_P000104_C0001_B101': 10, 'TC_S01_P000106_C0001_B101': 40, 'TC_S01_P000108_C0001_B101': 25, 'TC_S01_P000112_C0001_B101': 75, 'TC_S01_P000116_C0001_B101': 95, 'TC_S01_P000119_C0001_B101': 0, 'TC_S01_P000120_C0001_B101': 60, 'TC_S01_P000122_C0001_B101': 70, 'TC_S01_P000123_C0001_B101': 20, 'TC_S01_P000124_C0001_B101': 90, 'TC_S01_P000127_C0001_B101': 15, 'TC_S01_P000128_C0001_B101': 10, 'TC_S01_P000134_C0001_B101': 15, 'TC_S01_P000139_C0001_B101': 10, 'TC_S01_P000155_C0001_B101': 35, 'TC_S01_P000160_C0001_B204': 95, 'TC_S01_P000166_C0001_B101': 1, 'TC_S01_P000181_C0001_B101': 10}\n"
     ]
    }
   ],
   "source": [
    "ground_truth = pd.read_csv(\n",
    "    \"/home/u1910100/Documents/Tiger_Data/wsitils/tiger-til-scores-wsitils.csv\"\n",
    ")\n",
    "# print(ground_truth['image-id'], ground_truth['tils-score'])\n",
    "\n",
    "til_score_dict = {}\n",
    "\n",
    "for i, row in ground_truth.iterrows():\n",
    "    id = row[\"image-id\"]\n",
    "    score = row[\"tils-score\"]\n",
    "    til_score_dict[id] = score\n",
    "\n",
    "print(til_score_dict)\n",
    "\n",
    "with open(\"ground_truth_tils.json\", \"w\") as file:\n",
    "    json.dump(til_score_dict, file)"
   ]
  },
  {
   "cell_type": "code",
   "execution_count": 5,
   "metadata": {},
   "outputs": [
    {
     "name": "stderr",
     "output_type": "stream",
     "text": [
      "|2024-04-30|14:59:39.397| [WARNING] Metadata: Falling back to TIFF resolution tag for microns-per-pixel (MPP).\n",
      "|2024-04-30|14:59:39.398| [WARNING] Metadata: Objective power inferred from microns-per-pixel (MPP).\n"
     ]
    },
    {
     "data": {
      "text/plain": [
       "26"
      ]
     },
     "execution_count": 5,
     "metadata": {},
     "output_type": "execute_result"
    }
   ],
   "source": [
    "wsi_name = \"104S.tif\"\n",
    "wsi_without_ext = os.path.splitext(wsi_name)[0]\n",
    "cell_points_dir = \"/home/u1910100/GitHub/TIAger-Torch/output/det_out\"\n",
    "cell_points_path = os.path.join(cell_points_dir, f\"{wsi_without_ext}_points.json\")\n",
    "wsi_dir = \"/home/u1910100/Documents/Tiger_Data/wsitils/images/\"\n",
    "wsi_path = os.path.join(wsi_dir, wsi_name)\n",
    "xml_path = \"/home/u1910100/GitHub/TIAger-Torch/xml/105S.xml\"\n",
    "bulk_path = \"/home/u1910100/GitHub/TIAger-Torch/tf_seg_out/tempout/105S_bulk.npy\"\n",
    "create_til_score(wsi_path, xml_path, bulk_path)"
   ]
  },
  {
   "cell_type": "code",
   "execution_count": 7,
   "metadata": {},
   "outputs": [
    {
     "data": {
      "application/vnd.jupyter.widget-view+json": {
       "model_id": "5e93524fad5d4184892998c598883ea2",
       "version_major": 2,
       "version_minor": 0
      },
      "text/plain": [
       "  0%|          | 0/82 [00:00<?, ?it/s]"
      ]
     },
     "metadata": {},
     "output_type": "display_data"
    },
    {
     "name": "stderr",
     "output_type": "stream",
     "text": [
      "|2024-04-30|14:59:47.681| [WARNING] Metadata: Falling back to TIFF resolution tag for microns-per-pixel (MPP).\n",
      "|2024-04-30|14:59:47.682| [WARNING] Metadata: Objective power inferred from microns-per-pixel (MPP).\n",
      "|2024-04-30|14:59:47.990| [WARNING] Metadata: Falling back to TIFF resolution tag for microns-per-pixel (MPP).\n",
      "|2024-04-30|14:59:47.990| [WARNING] Metadata: Objective power inferred from microns-per-pixel (MPP).\n",
      "|2024-04-30|14:59:48.871| [WARNING] Metadata: Falling back to TIFF resolution tag for microns-per-pixel (MPP).\n",
      "|2024-04-30|14:59:48.872| [WARNING] Metadata: Objective power inferred from microns-per-pixel (MPP).\n",
      "|2024-04-30|14:59:59.402| [WARNING] Metadata: Falling back to TIFF resolution tag for microns-per-pixel (MPP).\n",
      "|2024-04-30|14:59:59.403| [WARNING] Metadata: Objective power inferred from microns-per-pixel (MPP).\n",
      "|2024-04-30|15:00:04.636| [WARNING] Metadata: Falling back to TIFF resolution tag for microns-per-pixel (MPP).\n",
      "|2024-04-30|15:00:04.636| [WARNING] Metadata: Objective power inferred from microns-per-pixel (MPP).\n",
      "|2024-04-30|15:00:07.871| [WARNING] Metadata: Falling back to TIFF resolution tag for microns-per-pixel (MPP).\n",
      "|2024-04-30|15:00:07.872| [WARNING] Metadata: Objective power inferred from microns-per-pixel (MPP).\n",
      "|2024-04-30|15:00:10.116| [WARNING] Metadata: Falling back to TIFF resolution tag for microns-per-pixel (MPP).\n",
      "|2024-04-30|15:00:10.117| [WARNING] Metadata: Objective power inferred from microns-per-pixel (MPP).\n",
      "|2024-04-30|15:00:11.205| [WARNING] Metadata: Falling back to TIFF resolution tag for microns-per-pixel (MPP).\n",
      "|2024-04-30|15:00:11.205| [WARNING] Metadata: Objective power inferred from microns-per-pixel (MPP).\n",
      "|2024-04-30|15:00:12.005| [WARNING] Metadata: Falling back to TIFF resolution tag for microns-per-pixel (MPP).\n",
      "|2024-04-30|15:00:12.005| [WARNING] Metadata: Objective power inferred from microns-per-pixel (MPP).\n",
      "|2024-04-30|15:00:13.175| [WARNING] Metadata: Falling back to TIFF resolution tag for microns-per-pixel (MPP).\n",
      "|2024-04-30|15:00:13.176| [WARNING] Metadata: Objective power inferred from microns-per-pixel (MPP).\n",
      "|2024-04-30|15:00:25.176| [WARNING] Metadata: Falling back to TIFF resolution tag for microns-per-pixel (MPP).\n",
      "|2024-04-30|15:00:25.177| [WARNING] Metadata: Objective power inferred from microns-per-pixel (MPP).\n",
      "|2024-04-30|15:00:34.797| [WARNING] Metadata: Falling back to TIFF resolution tag for microns-per-pixel (MPP).\n",
      "|2024-04-30|15:00:34.798| [WARNING] Metadata: Objective power inferred from microns-per-pixel (MPP).\n",
      "|2024-04-30|15:00:36.904| [WARNING] Metadata: Falling back to TIFF resolution tag for microns-per-pixel (MPP).\n",
      "|2024-04-30|15:00:36.905| [WARNING] Metadata: Objective power inferred from microns-per-pixel (MPP).\n",
      "|2024-04-30|15:00:40.549| [WARNING] Metadata: Falling back to TIFF resolution tag for microns-per-pixel (MPP).\n",
      "|2024-04-30|15:00:40.549| [WARNING] Metadata: Objective power inferred from microns-per-pixel (MPP).\n",
      "|2024-04-30|15:00:42.061| [WARNING] Metadata: Falling back to TIFF resolution tag for microns-per-pixel (MPP).\n",
      "|2024-04-30|15:00:42.062| [WARNING] Metadata: Objective power inferred from microns-per-pixel (MPP).\n",
      "|2024-04-30|15:00:44.387| [WARNING] Metadata: Falling back to TIFF resolution tag for microns-per-pixel (MPP).\n",
      "|2024-04-30|15:00:44.388| [WARNING] Metadata: Objective power inferred from microns-per-pixel (MPP).\n",
      "|2024-04-30|15:00:45.869| [WARNING] Metadata: Falling back to TIFF resolution tag for microns-per-pixel (MPP).\n",
      "|2024-04-30|15:00:45.869| [WARNING] Metadata: Objective power inferred from microns-per-pixel (MPP).\n",
      "|2024-04-30|15:00:55.462| [WARNING] Metadata: Falling back to TIFF resolution tag for microns-per-pixel (MPP).\n",
      "|2024-04-30|15:00:55.463| [WARNING] Metadata: Objective power inferred from microns-per-pixel (MPP).\n",
      "|2024-04-30|15:01:00.433| [WARNING] Metadata: Falling back to TIFF resolution tag for microns-per-pixel (MPP).\n",
      "|2024-04-30|15:01:00.434| [WARNING] Metadata: Objective power inferred from microns-per-pixel (MPP).\n",
      "|2024-04-30|15:01:01.399| [WARNING] Metadata: Falling back to TIFF resolution tag for microns-per-pixel (MPP).\n",
      "|2024-04-30|15:01:01.399| [WARNING] Metadata: Objective power inferred from microns-per-pixel (MPP).\n",
      "|2024-04-30|15:01:01.918| [WARNING] Metadata: Falling back to TIFF resolution tag for microns-per-pixel (MPP).\n",
      "|2024-04-30|15:01:01.919| [WARNING] Metadata: Objective power inferred from microns-per-pixel (MPP).\n",
      "|2024-04-30|15:01:02.122| [WARNING] Metadata: Falling back to TIFF resolution tag for microns-per-pixel (MPP).\n",
      "|2024-04-30|15:01:02.122| [WARNING] Metadata: Objective power inferred from microns-per-pixel (MPP).\n",
      "|2024-04-30|15:01:06.838| [WARNING] Metadata: Falling back to TIFF resolution tag for microns-per-pixel (MPP).\n",
      "|2024-04-30|15:01:06.839| [WARNING] Metadata: Objective power inferred from microns-per-pixel (MPP).\n",
      "|2024-04-30|15:01:12.648| [WARNING] Metadata: Falling back to TIFF resolution tag for microns-per-pixel (MPP).\n",
      "|2024-04-30|15:01:12.649| [WARNING] Metadata: Objective power inferred from microns-per-pixel (MPP).\n",
      "|2024-04-30|15:01:14.598| [WARNING] Metadata: Falling back to TIFF resolution tag for microns-per-pixel (MPP).\n",
      "|2024-04-30|15:01:14.599| [WARNING] Metadata: Objective power inferred from microns-per-pixel (MPP).\n",
      "|2024-04-30|15:01:16.253| [WARNING] Metadata: Falling back to TIFF resolution tag for microns-per-pixel (MPP).\n",
      "|2024-04-30|15:01:16.254| [WARNING] Metadata: Objective power inferred from microns-per-pixel (MPP).\n",
      "|2024-04-30|15:01:17.237| [WARNING] Metadata: Falling back to TIFF resolution tag for microns-per-pixel (MPP).\n",
      "|2024-04-30|15:01:17.238| [WARNING] Metadata: Objective power inferred from microns-per-pixel (MPP).\n",
      "|2024-04-30|15:01:18.936| [WARNING] Metadata: Falling back to TIFF resolution tag for microns-per-pixel (MPP).\n",
      "|2024-04-30|15:01:18.937| [WARNING] Metadata: Objective power inferred from microns-per-pixel (MPP).\n",
      "|2024-04-30|15:01:20.661| [WARNING] Metadata: Falling back to TIFF resolution tag for microns-per-pixel (MPP).\n",
      "|2024-04-30|15:01:20.662| [WARNING] Metadata: Objective power inferred from microns-per-pixel (MPP).\n",
      "|2024-04-30|15:01:21.502| [WARNING] Metadata: Falling back to TIFF resolution tag for microns-per-pixel (MPP).\n",
      "|2024-04-30|15:01:21.503| [WARNING] Metadata: Objective power inferred from microns-per-pixel (MPP).\n",
      "|2024-04-30|15:01:22.655| [WARNING] Metadata: Falling back to TIFF resolution tag for microns-per-pixel (MPP).\n",
      "|2024-04-30|15:01:22.656| [WARNING] Metadata: Objective power inferred from microns-per-pixel (MPP).\n",
      "|2024-04-30|15:01:26.040| [WARNING] Metadata: Falling back to TIFF resolution tag for microns-per-pixel (MPP).\n",
      "|2024-04-30|15:01:26.040| [WARNING] Metadata: Objective power inferred from microns-per-pixel (MPP).\n",
      "|2024-04-30|15:01:28.318| [WARNING] Metadata: Falling back to TIFF resolution tag for microns-per-pixel (MPP).\n",
      "|2024-04-30|15:01:28.318| [WARNING] Metadata: Objective power inferred from microns-per-pixel (MPP).\n",
      "|2024-04-30|15:01:28.851| [WARNING] Metadata: Falling back to TIFF resolution tag for microns-per-pixel (MPP).\n",
      "|2024-04-30|15:01:28.852| [WARNING] Metadata: Objective power inferred from microns-per-pixel (MPP).\n",
      "|2024-04-30|15:01:29.264| [WARNING] Metadata: Falling back to TIFF resolution tag for microns-per-pixel (MPP).\n",
      "|2024-04-30|15:01:29.265| [WARNING] Metadata: Objective power inferred from microns-per-pixel (MPP).\n",
      "|2024-04-30|15:01:29.482| [WARNING] Metadata: Falling back to TIFF resolution tag for microns-per-pixel (MPP).\n",
      "|2024-04-30|15:01:29.482| [WARNING] Metadata: Objective power inferred from microns-per-pixel (MPP).\n",
      "|2024-04-30|15:01:31.570| [WARNING] Metadata: Falling back to TIFF resolution tag for microns-per-pixel (MPP).\n",
      "|2024-04-30|15:01:31.571| [WARNING] Metadata: Objective power inferred from microns-per-pixel (MPP).\n",
      "|2024-04-30|15:01:36.450| [WARNING] Metadata: Falling back to TIFF resolution tag for microns-per-pixel (MPP).\n",
      "|2024-04-30|15:01:36.450| [WARNING] Metadata: Objective power inferred from microns-per-pixel (MPP).\n",
      "|2024-04-30|15:01:39.197| [WARNING] Metadata: Falling back to TIFF resolution tag for microns-per-pixel (MPP).\n",
      "|2024-04-30|15:01:39.198| [WARNING] Metadata: Objective power inferred from microns-per-pixel (MPP).\n",
      "|2024-04-30|15:01:40.626| [WARNING] Metadata: Falling back to TIFF resolution tag for microns-per-pixel (MPP).\n",
      "|2024-04-30|15:01:40.627| [WARNING] Metadata: Objective power inferred from microns-per-pixel (MPP).\n",
      "|2024-04-30|15:01:41.543| [WARNING] Metadata: Falling back to TIFF resolution tag for microns-per-pixel (MPP).\n",
      "|2024-04-30|15:01:41.544| [WARNING] Metadata: Objective power inferred from microns-per-pixel (MPP).\n",
      "|2024-04-30|15:01:41.809| [WARNING] Metadata: Falling back to TIFF resolution tag for microns-per-pixel (MPP).\n",
      "|2024-04-30|15:01:41.809| [WARNING] Metadata: Objective power inferred from microns-per-pixel (MPP).\n",
      "|2024-04-30|15:01:42.406| [WARNING] Metadata: Falling back to TIFF resolution tag for microns-per-pixel (MPP).\n",
      "|2024-04-30|15:01:42.407| [WARNING] Metadata: Objective power inferred from microns-per-pixel (MPP).\n",
      "|2024-04-30|15:01:43.651| [WARNING] Metadata: Falling back to TIFF resolution tag for microns-per-pixel (MPP).\n",
      "|2024-04-30|15:01:43.652| [WARNING] Metadata: Objective power inferred from microns-per-pixel (MPP).\n",
      "|2024-04-30|15:01:46.661| [WARNING] Metadata: Falling back to TIFF resolution tag for microns-per-pixel (MPP).\n",
      "|2024-04-30|15:01:46.662| [WARNING] Metadata: Objective power inferred from microns-per-pixel (MPP).\n",
      "|2024-04-30|15:01:48.055| [WARNING] Metadata: Falling back to TIFF resolution tag for microns-per-pixel (MPP).\n",
      "|2024-04-30|15:01:48.056| [WARNING] Metadata: Objective power inferred from microns-per-pixel (MPP).\n",
      "|2024-04-30|15:01:48.209| [WARNING] Metadata: Falling back to TIFF resolution tag for microns-per-pixel (MPP).\n",
      "|2024-04-30|15:01:48.209| [WARNING] Metadata: Objective power inferred from microns-per-pixel (MPP).\n",
      "|2024-04-30|15:01:49.354| [WARNING] Metadata: Falling back to TIFF resolution tag for microns-per-pixel (MPP).\n",
      "|2024-04-30|15:01:49.355| [WARNING] Metadata: Objective power inferred from microns-per-pixel (MPP).\n",
      "|2024-04-30|15:01:52.433| [WARNING] Metadata: Falling back to TIFF resolution tag for microns-per-pixel (MPP).\n",
      "|2024-04-30|15:01:52.434| [WARNING] Metadata: Objective power inferred from microns-per-pixel (MPP).\n",
      "|2024-04-30|15:01:54.834| [WARNING] Metadata: Falling back to TIFF resolution tag for microns-per-pixel (MPP).\n",
      "|2024-04-30|15:01:54.834| [WARNING] Metadata: Objective power inferred from microns-per-pixel (MPP).\n",
      "|2024-04-30|15:01:55.951| [WARNING] Metadata: Falling back to TIFF resolution tag for microns-per-pixel (MPP).\n",
      "|2024-04-30|15:01:55.951| [WARNING] Metadata: Objective power inferred from microns-per-pixel (MPP).\n",
      "|2024-04-30|15:01:57.008| [WARNING] Metadata: Falling back to TIFF resolution tag for microns-per-pixel (MPP).\n",
      "|2024-04-30|15:01:57.009| [WARNING] Metadata: Objective power inferred from microns-per-pixel (MPP).\n",
      "|2024-04-30|15:01:57.730| [WARNING] Metadata: Falling back to TIFF resolution tag for microns-per-pixel (MPP).\n",
      "|2024-04-30|15:01:57.730| [WARNING] Metadata: Objective power inferred from microns-per-pixel (MPP).\n",
      "|2024-04-30|15:01:58.139| [WARNING] Metadata: Falling back to TIFF resolution tag for microns-per-pixel (MPP).\n",
      "|2024-04-30|15:01:58.140| [WARNING] Metadata: Objective power inferred from microns-per-pixel (MPP).\n",
      "|2024-04-30|15:02:00.781| [WARNING] Metadata: Falling back to TIFF resolution tag for microns-per-pixel (MPP).\n",
      "|2024-04-30|15:02:00.781| [WARNING] Metadata: Objective power inferred from microns-per-pixel (MPP).\n",
      "|2024-04-30|15:02:02.535| [WARNING] Metadata: Falling back to TIFF resolution tag for microns-per-pixel (MPP).\n",
      "|2024-04-30|15:02:02.536| [WARNING] Metadata: Objective power inferred from microns-per-pixel (MPP).\n",
      "|2024-04-30|15:02:03.338| [WARNING] Metadata: Falling back to TIFF resolution tag for microns-per-pixel (MPP).\n",
      "|2024-04-30|15:02:03.338| [WARNING] Metadata: Objective power inferred from microns-per-pixel (MPP).\n",
      "|2024-04-30|15:02:04.360| [WARNING] Metadata: Falling back to TIFF resolution tag for microns-per-pixel (MPP).\n",
      "|2024-04-30|15:02:04.361| [WARNING] Metadata: Objective power inferred from microns-per-pixel (MPP).\n",
      "|2024-04-30|15:02:06.797| [WARNING] Metadata: Falling back to TIFF resolution tag for microns-per-pixel (MPP).\n",
      "|2024-04-30|15:02:06.798| [WARNING] Metadata: Objective power inferred from microns-per-pixel (MPP).\n",
      "|2024-04-30|15:02:14.914| [WARNING] Metadata: Falling back to TIFF resolution tag for microns-per-pixel (MPP).\n",
      "|2024-04-30|15:02:14.915| [WARNING] Metadata: Objective power inferred from microns-per-pixel (MPP).\n",
      "|2024-04-30|15:02:19.153| [WARNING] Metadata: Falling back to TIFF resolution tag for microns-per-pixel (MPP).\n",
      "|2024-04-30|15:02:19.153| [WARNING] Metadata: Objective power inferred from microns-per-pixel (MPP).\n",
      "|2024-04-30|15:02:19.878| [WARNING] Metadata: Falling back to TIFF resolution tag for microns-per-pixel (MPP).\n",
      "|2024-04-30|15:02:19.878| [WARNING] Metadata: Objective power inferred from microns-per-pixel (MPP).\n",
      "|2024-04-30|15:02:23.652| [WARNING] Metadata: Falling back to TIFF resolution tag for microns-per-pixel (MPP).\n",
      "|2024-04-30|15:02:23.653| [WARNING] Metadata: Objective power inferred from microns-per-pixel (MPP).\n",
      "|2024-04-30|15:02:26.019| [WARNING] Metadata: Falling back to TIFF resolution tag for microns-per-pixel (MPP).\n",
      "|2024-04-30|15:02:26.020| [WARNING] Metadata: Objective power inferred from microns-per-pixel (MPP).\n",
      "|2024-04-30|15:02:27.693| [WARNING] Metadata: Falling back to TIFF resolution tag for microns-per-pixel (MPP).\n",
      "|2024-04-30|15:02:27.694| [WARNING] Metadata: Objective power inferred from microns-per-pixel (MPP).\n",
      "|2024-04-30|15:02:29.388| [WARNING] Metadata: Falling back to TIFF resolution tag for microns-per-pixel (MPP).\n",
      "|2024-04-30|15:02:29.388| [WARNING] Metadata: Objective power inferred from microns-per-pixel (MPP).\n",
      "|2024-04-30|15:02:30.132| [WARNING] Metadata: Falling back to TIFF resolution tag for microns-per-pixel (MPP).\n",
      "|2024-04-30|15:02:30.133| [WARNING] Metadata: Objective power inferred from microns-per-pixel (MPP).\n",
      "|2024-04-30|15:02:31.557| [WARNING] Metadata: Falling back to TIFF resolution tag for microns-per-pixel (MPP).\n",
      "|2024-04-30|15:02:31.558| [WARNING] Metadata: Objective power inferred from microns-per-pixel (MPP).\n",
      "|2024-04-30|15:02:33.986| [WARNING] Metadata: Falling back to TIFF resolution tag for microns-per-pixel (MPP).\n",
      "|2024-04-30|15:02:33.987| [WARNING] Metadata: Objective power inferred from microns-per-pixel (MPP).\n",
      "|2024-04-30|15:02:38.494| [WARNING] Metadata: Falling back to TIFF resolution tag for microns-per-pixel (MPP).\n",
      "|2024-04-30|15:02:38.495| [WARNING] Metadata: Objective power inferred from microns-per-pixel (MPP).\n",
      "|2024-04-30|15:02:43.204| [WARNING] Metadata: Falling back to TIFF resolution tag for microns-per-pixel (MPP).\n",
      "|2024-04-30|15:02:43.205| [WARNING] Metadata: Objective power inferred from microns-per-pixel (MPP).\n",
      "|2024-04-30|15:02:46.225| [WARNING] Metadata: Falling back to TIFF resolution tag for microns-per-pixel (MPP).\n",
      "|2024-04-30|15:02:46.226| [WARNING] Metadata: Objective power inferred from microns-per-pixel (MPP).\n",
      "|2024-04-30|15:02:47.334| [WARNING] Metadata: Falling back to TIFF resolution tag for microns-per-pixel (MPP).\n",
      "|2024-04-30|15:02:47.335| [WARNING] Metadata: Objective power inferred from microns-per-pixel (MPP).\n",
      "|2024-04-30|15:02:49.189| [WARNING] Metadata: Falling back to TIFF resolution tag for microns-per-pixel (MPP).\n",
      "|2024-04-30|15:02:49.190| [WARNING] Metadata: Objective power inferred from microns-per-pixel (MPP).\n",
      "|2024-04-30|15:02:50.412| [WARNING] Metadata: Falling back to TIFF resolution tag for microns-per-pixel (MPP).\n",
      "|2024-04-30|15:02:50.413| [WARNING] Metadata: Objective power inferred from microns-per-pixel (MPP).\n",
      "|2024-04-30|15:02:50.774| [WARNING] Metadata: Falling back to TIFF resolution tag for microns-per-pixel (MPP).\n",
      "|2024-04-30|15:02:50.775| [WARNING] Metadata: Objective power inferred from microns-per-pixel (MPP).\n",
      "|2024-04-30|15:02:51.159| [WARNING] Metadata: Falling back to TIFF resolution tag for microns-per-pixel (MPP).\n",
      "|2024-04-30|15:02:51.159| [WARNING] Metadata: Objective power inferred from microns-per-pixel (MPP).\n",
      "|2024-04-30|15:02:55.583| [WARNING] Metadata: Falling back to TIFF resolution tag for microns-per-pixel (MPP).\n",
      "|2024-04-30|15:02:55.583| [WARNING] Metadata: Objective power inferred from microns-per-pixel (MPP).\n",
      "|2024-04-30|15:02:58.143| [WARNING] Metadata: Falling back to TIFF resolution tag for microns-per-pixel (MPP).\n",
      "|2024-04-30|15:02:58.143| [WARNING] Metadata: Objective power inferred from microns-per-pixel (MPP).\n",
      "|2024-04-30|15:03:05.762| [WARNING] Metadata: Falling back to TIFF resolution tag for microns-per-pixel (MPP).\n",
      "|2024-04-30|15:03:05.762| [WARNING] Metadata: Objective power inferred from microns-per-pixel (MPP).\n",
      "|2024-04-30|15:03:10.420| [WARNING] Metadata: Falling back to TIFF resolution tag for microns-per-pixel (MPP).\n",
      "|2024-04-30|15:03:10.420| [WARNING] Metadata: Objective power inferred from microns-per-pixel (MPP).\n"
     ]
    },
    {
     "name": "stdout",
     "output_type": "stream",
     "text": [
      "{'123S': 100, '214B': 10, '162S': 100, '212B': 100, '159S': 11, 'TC_S01_P000123_C0001_B101': 100, 'TC_S01_P000119_C0001_B101': 100, 'TC_S01_P000127_C0001_B101': 41, 'TC_S01_P000089_C0001_B101': 64, 'TC_S01_P000077_C0001_B101': 38, 'TC_S01_P000160_C0001_B204': 100, 'TC_S01_P000041_C0001_B101': 43, 'TC_S01_P000020_C0001_B207': 39, '211B': 64, 'TC_S01_P000073_C0001_B101': 95, 'TC_S01_P000116_C0001_B101': 100, 'TC_S01_P000120_C0001_B101': 73, '227S': 100, 'TC_S01_P000085_C0001_B101': 51, 'TC_S01_P000155_C0001_B101': 28, '205B': 2, 'TC_S01_P000106_C0001_B101': 71, 'TC_S01_P000112_C0001_B101': 100, '174S': 100, '110S': 4, '108S': 29, 'TC_S01_P000181_C0001_B101': 9, 'TC_S01_P000064_C0001_B101': 38, 'TC_S01_P000128_C0001_B101': 34, 'TC_S01_P000052_C0001_B101': 100, 'TC_S01_P000055_C0001_B101': 100, '160B': 100, '233B': 33, 'TC_S01_P000058_C0001_B101': 21, '161S': 46, 'TC_S01_P000083_C0001_B101': 23, '236B': 45, '224B': 100, 'TC_S01_P000139_C0001_B101': 54, 'TC_S01_P000108_C0001_B101': 100, '155B': 18, '165B': 8, '228B': 30, 'TC_S01_P000045_C0001_B106': 74, '139B': 100, '208B': 15, '223B': 14, '247B': 27, 'TC_S01_P000099_C0001_B101': 100, 'TC_S01_P000124_C0001_B101': 62, '121S': 48, 'TC_S01_P000063_C0001_B101': 59, '146B': 17, '126B': 26, 'TC_S01_P000061_C0001_B101': 100, 'TC_S01_P000047_C0001_B101': 24, 'TC_S01_P000092_C0001_B101': 71, 'TC_S01_P000100_C0001_B101': 93, 'TC_S01_P000104_C0001_B101': 52, 'TC_S01_P000006_C0001_B206': 100, 'TC_S01_P000079_C0001_B101': 46, 'TC_S01_P000049_C0001_B101': 47, '104S': 100, 'TC_S01_P000074_C0001_B101': 35, 'TC_S01_P000101_C0001_B101': 100, '175B': 34, 'TC_S01_P000134_C0001_B101': 87, '107S': 50, 'TC_S01_P000122_C0001_B101': 100, 'TC_S01_P000004_C0001_B103': 100, '184B': 60, '105S': 28, 'TC_S01_P000103_C0001_B101': 35, '248B': 15, '132B': 65, 'TC_S01_P000166_C0001_B101': 19, 'TC_S01_P000087_C0001_B101': 7, 'TC_S01_P000093_C0001_B101': 100, '112B': 18, '129S': 79, '106S': 100}\n"
     ]
    }
   ],
   "source": [
    "xml_dir = \"/home/u1910100/GitHub/TIAger-Torch/xml\"\n",
    "pred_til_score_dict = {}\n",
    "wsi_dir = \"/home/u1910100/Documents/Tiger_Data/wsitils/images/\"\n",
    "\n",
    "\n",
    "for xml_file in tqdm(os.listdir(xml_dir)):\n",
    "    xml_path = os.path.join(xml_dir, xml_file)\n",
    "    slide_name = os.path.splitext(xml_file)[0]\n",
    "\n",
    "    bulk_path = (\n",
    "        f\"/home/u1910100/GitHub/TIAger-Torch/tf_seg_out/tempout/{slide_name}_bulk.npy\"\n",
    "    )\n",
    "    if not os.path.exists(bulk_path):\n",
    "        bulk_path = f\"/home/u1910100/GitHub/TIAger-Torch/tf_seg_out/tempout/{slide_name}_seg.npy\"\n",
    "    if not os.path.exists(bulk_path):\n",
    "        continue\n",
    "    wsi_path = os.path.join(wsi_dir, f\"{slide_name}.tif\")\n",
    "    score = create_til_score(wsi_path, xml_path, bulk_path)\n",
    "\n",
    "    pred_til_score_dict[slide_name] = score\n",
    "\n",
    "print(pred_til_score_dict)"
   ]
  },
  {
   "cell_type": "code",
   "execution_count": 8,
   "metadata": {},
   "outputs": [
    {
     "name": "stdout",
     "output_type": "stream",
     "text": [
      "81\n",
      "PearsonRResult(statistic=0.6968197882402061, pvalue=5.022453629306933e-13)\n"
     ]
    }
   ],
   "source": [
    "print(len(pred_til_score_dict))\n",
    "\n",
    "pred_tils = []\n",
    "true_tils = []\n",
    "for slide_id in pred_til_score_dict.keys():\n",
    "    pred_tils.append(pred_til_score_dict[slide_id])\n",
    "    true_tils.append(til_score_dict[slide_id])\n",
    "\n",
    "print(scipy.stats.pearsonr(true_tils, pred_tils))"
   ]
  }
 ],
 "metadata": {
  "kernelspec": {
   "display_name": "TIAToolBox",
   "language": "python",
   "name": "python3"
  },
  "language_info": {
   "codemirror_mode": {
    "name": "ipython",
    "version": 3
   },
   "file_extension": ".py",
   "mimetype": "text/x-python",
   "name": "python",
   "nbconvert_exporter": "python",
   "pygments_lexer": "ipython3",
   "version": "3.11.5"
  }
 },
 "nbformat": 4,
 "nbformat_minor": 2
}
