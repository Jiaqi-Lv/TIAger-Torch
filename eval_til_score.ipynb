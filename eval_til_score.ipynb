{
 "cells": [
  {
   "cell_type": "code",
   "execution_count": 1,
   "metadata": {},
   "outputs": [],
   "source": [
    "import numpy as np\n",
    "import xml.etree.ElementTree as ET\n",
    "import os\n",
    "import pandas as pd\n",
    "import json\n",
    "import scipy.stats\n",
    "from utils import create_til_score\n",
    "from multiprocessing import Pool\n",
    "from tqdm.auto import tqdm\n",
    "import matplotlib.pyplot as plt\n",
    "from utils import is_l1\n",
    "from tiatoolbox.wsicore.wsireader import VirtualWSIReader\n",
    "import numpy as np\n",
    "from tiatoolbox.wsicore.wsireader import VirtualWSIReader, WSIReader\n",
    "import os\n",
    "import matplotlib.pyplot as plt\n",
    "import cv2\n",
    "from utils import mm2_to_px, dist_to_px\n",
    "import skimage\n",
    "from scipy.spatial import Delaunay\n",
    "from shapely.ops import polygonize, unary_union\n",
    "import math\n",
    "import shapely.geometry as geometry\n",
    "import shapely\n",
    "from PIL import Image, ImageDraw"
   ]
  },
  {
   "cell_type": "code",
   "execution_count": 2,
   "metadata": {},
   "outputs": [
    {
     "name": "stdout",
     "output_type": "stream",
     "text": [
      "{'104S': 70, '105S': 10, '106S': 10, '107S': 5, '108S': 30, '110S': 1, '112B': 1, '121S': 5, '123S': 60, '126B': 10, '129S': 40, '132B': 1, '139B': 40, '146B': 1, '155B': 3, '159S': 1, '160B': 75, '161S': 20, '162S': 50, '165B': 1, '174S': 85, '175B': 20, '184B': 5, '205B': 1, '208B': 1, '211B': 20, '212B': 5, '214B': 1, '223B': 1, '224B': 40, '227S': 95, '228B': 20, '233B': 1, '236B': 70, '244B': 1, '247B': 10, '248B': 10, 'TC_S01_P000004_C0001_B103': 95, 'TC_S01_P000006_C0001_B206': 90, 'TC_S01_P000020_C0001_B207': 5, 'TC_S01_P000041_C0001_B101': 5, 'TC_S01_P000045_C0001_B106': 20, 'TC_S01_P000047_C0001_B101': 1, 'TC_S01_P000049_C0001_B101': 3, 'TC_S01_P000052_C0001_B101': 95, 'TC_S01_P000055_C0001_B101': 65, 'TC_S01_P000058_C0001_B101': 1, 'TC_S01_P000061_C0001_B101': 65, 'TC_S01_P000063_C0001_B101': 5, 'TC_S01_P000064_C0001_B101': 1, 'TC_S01_P000073_C0001_B101': 30, 'TC_S01_P000074_C0001_B101': 5, 'TC_S01_P000077_C0001_B101': 10, 'TC_S01_P000079_C0001_B101': 15, 'TC_S01_P000083_C0001_B101': 1, 'TC_S01_P000085_C0001_B101': 1, 'TC_S01_P000087_C0001_B101': 1, 'TC_S01_P000089_C0001_B101': 10, 'TC_S01_P000092_C0001_B101': 1, 'TC_S01_P000093_C0001_B101': 75, 'TC_S01_P000099_C0001_B101': 65, 'TC_S01_P000100_C0001_B101': 60, 'TC_S01_P000101_C0001_B101': 20, 'TC_S01_P000103_C0001_B101': 10, 'TC_S01_P000104_C0001_B101': 10, 'TC_S01_P000106_C0001_B101': 40, 'TC_S01_P000108_C0001_B101': 25, 'TC_S01_P000112_C0001_B101': 75, 'TC_S01_P000116_C0001_B101': 95, 'TC_S01_P000119_C0001_B101': 0, 'TC_S01_P000120_C0001_B101': 60, 'TC_S01_P000122_C0001_B101': 70, 'TC_S01_P000123_C0001_B101': 20, 'TC_S01_P000124_C0001_B101': 90, 'TC_S01_P000127_C0001_B101': 15, 'TC_S01_P000128_C0001_B101': 10, 'TC_S01_P000134_C0001_B101': 15, 'TC_S01_P000139_C0001_B101': 10, 'TC_S01_P000155_C0001_B101': 35, 'TC_S01_P000160_C0001_B204': 95, 'TC_S01_P000166_C0001_B101': 1, 'TC_S01_P000181_C0001_B101': 10}\n"
     ]
    }
   ],
   "source": [
    "ground_truth = pd.read_csv(\n",
    "    \"/home/u1910100/Documents/Tiger_Data/wsitils/tiger-til-scores-wsitils.csv\"\n",
    ")\n",
    "# print(ground_truth['image-id'], ground_truth['tils-score'])\n",
    "\n",
    "gt_til_score_dict = {}\n",
    "\n",
    "for i, row in ground_truth.iterrows():\n",
    "    id = row[\"image-id\"]\n",
    "    score = row[\"tils-score\"]\n",
    "    gt_til_score_dict[id] = score\n",
    "\n",
    "print(gt_til_score_dict)\n",
    "\n",
    "with open(\"ground_truth_tils.json\", \"w\") as file:\n",
    "    json.dump(gt_til_score_dict, file)"
   ]
  },
  {
   "cell_type": "code",
   "execution_count": null,
   "metadata": {},
   "outputs": [],
   "source": [
    "wsi_name = \"104S.tif\"\n",
    "wsi_without_ext = os.path.splitext(wsi_name)[0]\n",
    "cell_points_dir = \"/home/u1910100/GitHub/TIAger-Torch/output/det_out\"\n",
    "cell_points_path = os.path.join(cell_points_dir, f\"{wsi_without_ext}_points.json\")\n",
    "wsi_dir = \"/home/u1910100/Documents/Tiger_Data/wsitils/images/\"\n",
    "wsi_path = os.path.join(wsi_dir, wsi_name)\n",
    "xml_path = \"/home/u1910100/GitHub/TIAger-Torch/xml/105S.xml\"\n",
    "bulk_path = \"/home/u1910100/GitHub/TIAger-Torch/tf_seg_out/tempout/105S_bulk.npy\"\n",
    "create_til_score(wsi_path, xml_path, bulk_path)"
   ]
  },
  {
   "cell_type": "code",
   "execution_count": null,
   "metadata": {},
   "outputs": [],
   "source": [
    "xml_dir = \"/home/u1910100/GitHub/TIAger-Torch/xml\"\n",
    "tf_til_score_dict = {}\n",
    "wsi_dir = \"/home/u1910100/Documents/Tiger_Data/wsitils/images/\"\n",
    "\n",
    "\n",
    "for xml_file in tqdm(os.listdir(xml_dir)):\n",
    "    xml_path = os.path.join(xml_dir, xml_file)\n",
    "    slide_name = os.path.splitext(xml_file)[0]\n",
    "    print(slide_name)\n",
    "    mask_path = f\"output/temp_out/{slide_name}.npy\"\n",
    "    tissue_mask = np.load(mask_path)\n",
    "    tumor_stroma_mask_path = f\"/home/u1910100/GitHub/TIAger-Torch/tf_seg_out/tempout/{slide_name}_bulk_stroma.npy\"\n",
    "    if is_l1(tissue_mask):\n",
    "        print(\"l1\")\n",
    "        mask_reader = VirtualWSIReader.open(tissue_mask, mpp=8, power=1.25, mode=\"bool\")\n",
    "        mask = mask_reader.slide_thumbnail(resolution=32, units=\"mpp\")[:, :, 0]\n",
    "    else:\n",
    "        if not os.path.exists(tumor_stroma_mask_path):\n",
    "            continue\n",
    "        mask = np.load(tumor_stroma_mask_path)\n",
    "\n",
    "    wsi_path = os.path.join(wsi_dir, f\"{slide_name}.tif\")\n",
    "    score = create_til_score(wsi_path, xml_path, mask)\n",
    "\n",
    "    tf_til_score_dict[slide_name] = score\n",
    "\n",
    "print(tf_til_score_dict)\n",
    "\n",
    "with open(\"tf_tils.json\", \"w\") as file:\n",
    "    json.dump(tf_til_score_dict, file)"
   ]
  },
  {
   "cell_type": "code",
   "execution_count": null,
   "metadata": {},
   "outputs": [],
   "source": [
    "with open(\"tf_tils.json\", \"r\") as file:\n",
    "    tf_til_score_dict = json.load(file)\n",
    "print(len(tf_til_score_dict))\n",
    "\n",
    "tf_pred_tils = []\n",
    "true_tils = []\n",
    "for slide_id in tf_til_score_dict.keys():\n",
    "    tf_pred_tils.append(tf_til_score_dict[slide_id])\n",
    "    true_tils.append(gt_til_score_dict[slide_id])\n",
    "\n",
    "print(scipy.stats.pearsonr(true_tils, tf_pred_tils))\n",
    "print(scipy.stats.spearmanr(true_tils, tf_pred_tils))\n",
    "\n",
    "plt.scatter(tf_pred_tils, true_tils)\n",
    "plt.xlabel(\"TF Predicted TILs\")\n",
    "plt.ylabel(\"Ground Truth\")\n",
    "plt.show()"
   ]
  },
  {
   "cell_type": "code",
   "execution_count": 4,
   "metadata": {},
   "outputs": [
    {
     "name": "stdout",
     "output_type": "stream",
     "text": [
      "PearsonRResult(statistic=0.7943689707561445, pvalue=5.320919442756478e-19)\n",
      "SignificanceResult(statistic=0.7036384952337212, pvalue=1.676529366498127e-13)\n"
     ]
    },
    {
     "data": {
      "image/png": "[encoded data removed]",
      "text/plain": [
       "<Figure size 640x480 with 1 Axes>"
      ]
     },
     "metadata": {},
     "output_type": "display_data"
    }
   ],
   "source": [
    "til_score_dir = \"output/tils_v2\"\n",
    "pred_tils = []\n",
    "tf_tils = []\n",
    "gt_tils = []\n",
    "for score_file in os.listdir(til_score_dir):\n",
    "    slide_id = os.path.splitext(score_file)[0]\n",
    "\n",
    "    file = open(os.path.join(til_score_dir, score_file), \"r\")\n",
    "    score = file.read()\n",
    "    file.close()\n",
    "\n",
    "    # if tf_til_score_dict.get(slide_id) is not None:\n",
    "    pred_tils.append(int(score))\n",
    "    gt_tils.append(gt_til_score_dict[slide_id])\n",
    "    # tf_tils.append(tf_til_score_dict[slide_id])\n",
    "\n",
    "    # print(f\"{slide_id}, torch_pred={score}, gt={gt_til_score_dict[slide_id]}\")\n",
    "\n",
    "print(scipy.stats.pearsonr(pred_tils, gt_tils))\n",
    "print(scipy.stats.spearmanr(pred_tils, gt_tils))\n",
    "# plt.scatter(pred_tils, gt_tils, alpha=0.5)\n",
    "plt.scatter(pred_tils, gt_tils, alpha=0.5)\n",
    "plt.xlim(-5, 105)\n",
    "plt.ylim(-5, 105)\n",
    "ax = plt.gca()\n",
    "ax.set_aspect(\"equal\", adjustable=\"box\")\n",
    "# plt.scatter(pred_tils, tf_tils)\n",
    "plt.axline((0, 0), (100, 100))\n",
    "plt.xlabel(\"Predicted TILs\")\n",
    "plt.ylabel(\"GT TILs\")\n",
    "plt.show()"
   ]
  },
  {
   "cell_type": "code",
   "execution_count": 21,
   "metadata": {},
   "outputs": [
    {
     "data": {
      "text/plain": [
       "5"
      ]
     },
     "execution_count": 21,
     "metadata": {},
     "output_type": "execute_result"
    }
   ],
   "source": [
    "dist_to_px(2.3, 0.5)"
   ]
  }
 ],
 "metadata": {
  "kernelspec": {
   "display_name": "TIAToolBox",
   "language": "python",
   "name": "python3"
  },
  "language_info": {
   "codemirror_mode": {
    "name": "ipython",
    "version": 3
   },
   "file_extension": ".py",
   "mimetype": "text/x-python",
   "name": "python",
   "nbconvert_exporter": "python",
   "pygments_lexer": "ipython3",
   "version": "3.11.5"
  }
 },
 "nbformat": 4,
 "nbformat_minor": 2
}
