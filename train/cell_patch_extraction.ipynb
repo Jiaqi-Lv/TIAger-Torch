{
 "cells": [
  {
   "cell_type": "code",
   "execution_count": 66,
   "metadata": {},
   "outputs": [],
   "source": [
    "import json\n",
    "import numpy as np\n",
    "import matplotlib.pyplot as plt\n",
    "from tiatoolbox.tools.patchextraction import get_patch_extractor\n",
    "import os\n",
    "import skimage\n",
    "from tiatoolbox.wsicore.wsireader import VirtualWSIReader\n",
    "import cv2\n",
    "from tqdm.auto import tqdm"
   ]
  },
  {
   "cell_type": "code",
   "execution_count": null,
   "metadata": {},
   "outputs": [],
   "source": [
    "splits_file_path = \"/media/u1910100/Extreme SSD/data/tiger/cell_detection/splits.json\"\n",
    "with open(splits_file_path, \"r\") as file:\n",
    "    splits = json.load(file)"
   ]
  },
  {
   "cell_type": "code",
   "execution_count": null,
   "metadata": {},
   "outputs": [],
   "source": [
    "save_dir = \"/media/u1910100/Extreme SSD/data/tiger/cell_detection/dilation/patches_new\"\n",
    "tile_dir = \"/media/u1910100/Extreme SSD/data/tiger/cell_detection/dilation/tiles\""
   ]
  },
  {
   "cell_type": "code",
   "execution_count": null,
   "metadata": {},
   "outputs": [],
   "source": [
    "def img_to_shape(a, shape):\n",
    "    y_, x_ = shape\n",
    "    y, x = a.shape[0], a.shape[1]\n",
    "    y_pad = y_ - y\n",
    "    x_pad = x_ - x\n",
    "    return np.pad(\n",
    "        a,\n",
    "        (\n",
    "            (y_pad // 2, y_pad // 2 + y_pad % 2),\n",
    "            (x_pad // 2, x_pad // 2 + x_pad % 2),\n",
    "            (0, 0),\n",
    "        ),\n",
    "        mode=\"constant\",\n",
    "    )\n",
    "\n",
    "\n",
    "def mask_to_shape(a, shape):\n",
    "    y_, x_ = shape\n",
    "    y, x = a.shape[0], a.shape[1]\n",
    "    y_pad = y_ - y\n",
    "    x_pad = x_ - x\n",
    "    return np.pad(\n",
    "        a,\n",
    "        ((y_pad // 2, y_pad // 2 + y_pad % 2), (x_pad // 2, x_pad // 2 + x_pad % 2)),\n",
    "        mode=\"constant\",\n",
    "    )\n",
    "\n",
    "\n",
    "def get_cell_centers(cell_mask):\n",
    "    mask_label = skimage.measure.label(cell_mask)\n",
    "    stats = skimage.measure.regionprops(mask_label)\n",
    "    xs = []\n",
    "    ys = []\n",
    "    for region in stats:\n",
    "        centroid = region[\"centroid\"]\n",
    "        xs.append(centroid[1])\n",
    "        ys.append(centroid[0])\n",
    "    return xs, ys\n",
    "\n",
    "\n",
    "def extract_cell_img_mask(tile_img, tile_mask, img_name):\n",
    "    img_reader = VirtualWSIReader.open(tile_img)\n",
    "    mask_reader = VirtualWSIReader.open(tile_mask, mode=\"bool\")\n",
    "\n",
    "    extractor = get_patch_extractor(\n",
    "        input_img=img_reader,\n",
    "        method_name=\"slidingwindow\",\n",
    "        patch_size=(128, 128),\n",
    "        resolution=0,\n",
    "        units=\"level\",\n",
    "        # min_mask_ratio=0.3\n",
    "    )\n",
    "\n",
    "    results = {}\n",
    "    idx = 0\n",
    "\n",
    "    for coords in extractor.coordinate_list:\n",
    "        img_patch = img_reader.read_bounds(coords, resolution=0, units=\"level\")\n",
    "        mask_patch = mask_reader.read_bounds(coords, resolution=0, units=\"level\")\n",
    "\n",
    "        img_mask_file = np.zeros(shape=(128, 128, 4), dtype=np.uint8)\n",
    "        img_mask_file[:, :, 0:3] = img_patch\n",
    "        img_mask_file[:, :, 3] = mask_patch[:, :, 0]\n",
    "\n",
    "        non_zeros = np.count_nonzero(mask_patch[:, :, 0])\n",
    "\n",
    "        img_name_without_ext = os.path.splitext(img_name)[0]\n",
    "\n",
    "        if non_zeros > 0:\n",
    "            save_name = f\"{img_name_without_ext}_{idx}_p.npy\"\n",
    "        else:\n",
    "            save_name = f\"{img_name_without_ext}_{idx}_n.npy\"\n",
    "\n",
    "        results[save_name] = img_mask_file\n",
    "\n",
    "        idx += 1\n",
    "\n",
    "    return results\n",
    "\n",
    "\n",
    "def erode_cell_mask(mask):\n",
    "    \"Reduce mask size of a single cell from 49 to 29 px\"\n",
    "    kernel = cv2.getStructuringElement(cv2.MORPH_ELLIPSE, (3, 3))\n",
    "    mask = cv2.erode(mask, kernel, iterations=1)\n",
    "    return mask"
   ]
  },
  {
   "cell_type": "code",
   "execution_count": 71,
   "metadata": {},
   "outputs": [
    {
     "data": {
      "application/vnd.jupyter.widget-view+json": {
       "model_id": "87bb6af9f423480b9bce932741221c38",
       "version_major": 2,
       "version_minor": 0
      },
      "text/plain": [
       "  0%|          | 0/49 [00:00<?, ?it/s]"
      ]
     },
     "metadata": {},
     "output_type": "display_data"
    },
    {
     "name": "stderr",
     "output_type": "stream",
     "text": [
      "|2024-06-14|16:29:30.349| [WARNING] Raw data is None.\n",
      "|2024-06-14|16:29:30.349| [WARNING] Unknown scale (no objective_power or mpp)\n",
      "|2024-06-14|16:29:30.351| [WARNING] Raw data is None.\n",
      "|2024-06-14|16:29:30.352| [WARNING] Unknown scale (no objective_power or mpp)\n",
      "|2024-06-14|16:29:30.504| [WARNING] Raw data is None.\n",
      "|2024-06-14|16:29:30.504| [WARNING] Unknown scale (no objective_power or mpp)\n",
      "|2024-06-14|16:29:30.506| [WARNING] Raw data is None.\n",
      "|2024-06-14|16:29:30.506| [WARNING] Unknown scale (no objective_power or mpp)\n"
     ]
    },
    {
     "name": "stdout",
     "output_type": "stream",
     "text": [
      "136B_[55424, 17753, 56685, 18932].npy\n",
      "(1179, 1261, 5) uint8\n",
      "136B_[64379, 16227, 65677, 17403].npy\n",
      "(1176, 1298, 5) uint8\n"
     ]
    },
    {
     "name": "stderr",
     "output_type": "stream",
     "text": [
      "|2024-06-14|16:29:30.666| [WARNING] Raw data is None.\n",
      "|2024-06-14|16:29:30.667| [WARNING] Unknown scale (no objective_power or mpp)\n",
      "|2024-06-14|16:29:30.669| [WARNING] Raw data is None.\n",
      "|2024-06-14|16:29:30.669| [WARNING] Unknown scale (no objective_power or mpp)\n",
      "|2024-06-14|16:29:30.821| [WARNING] Raw data is None.\n",
      "|2024-06-14|16:29:30.821| [WARNING] Unknown scale (no objective_power or mpp)\n",
      "|2024-06-14|16:29:30.824| [WARNING] Raw data is None.\n",
      "|2024-06-14|16:29:30.824| [WARNING] Unknown scale (no objective_power or mpp)\n"
     ]
    },
    {
     "name": "stdout",
     "output_type": "stream",
     "text": [
      "136B_[73791, 8482, 75066, 9666].npy\n",
      "(1184, 1275, 5) uint8\n",
      "198B_[19017, 3481, 20279, 4695].npy\n",
      "(1214, 1262, 5) uint8\n"
     ]
    },
    {
     "name": "stderr",
     "output_type": "stream",
     "text": [
      "|2024-06-14|16:29:30.976| [WARNING] Raw data is None.\n",
      "|2024-06-14|16:29:30.976| [WARNING] Unknown scale (no objective_power or mpp)\n",
      "|2024-06-14|16:29:30.978| [WARNING] Raw data is None.\n",
      "|2024-06-14|16:29:30.978| [WARNING] Unknown scale (no objective_power or mpp)\n",
      "|2024-06-14|16:29:31.137| [WARNING] Raw data is None.\n",
      "|2024-06-14|16:29:31.138| [WARNING] Unknown scale (no objective_power or mpp)\n",
      "|2024-06-14|16:29:31.140| [WARNING] Raw data is None.\n",
      "|2024-06-14|16:29:31.140| [WARNING] Unknown scale (no objective_power or mpp)\n"
     ]
    },
    {
     "name": "stdout",
     "output_type": "stream",
     "text": [
      "198B_[6510, 2478, 7759, 3691].npy\n",
      "(1213, 1249, 5) uint8\n",
      "198B_[6851, 17444, 8175, 18614].npy\n",
      "(1170, 1324, 5) uint8\n"
     ]
    },
    {
     "name": "stderr",
     "output_type": "stream",
     "text": [
      "|2024-06-14|16:29:31.308| [WARNING] Raw data is None.\n",
      "|2024-06-14|16:29:31.308| [WARNING] Unknown scale (no objective_power or mpp)\n",
      "|2024-06-14|16:29:31.310| [WARNING] Raw data is None.\n",
      "|2024-06-14|16:29:31.310| [WARNING] Unknown scale (no objective_power or mpp)\n",
      "|2024-06-14|16:29:31.472| [WARNING] Raw data is None.\n",
      "|2024-06-14|16:29:31.472| [WARNING] Unknown scale (no objective_power or mpp)\n",
      "|2024-06-14|16:29:31.476| [WARNING] Raw data is None.\n",
      "|2024-06-14|16:29:31.476| [WARNING] Unknown scale (no objective_power or mpp)\n"
     ]
    },
    {
     "name": "stdout",
     "output_type": "stream",
     "text": [
      "231S_[16115, 21334, 17314, 22502].npy\n",
      "(1168, 1199, 5) uint8\n",
      "231S_[28124, 36253, 29320, 37434].npy\n",
      "(1181, 1196, 5) uint8\n"
     ]
    },
    {
     "name": "stderr",
     "output_type": "stream",
     "text": [
      "|2024-06-14|16:29:31.635| [WARNING] Raw data is None.\n",
      "|2024-06-14|16:29:31.635| [WARNING] Unknown scale (no objective_power or mpp)\n",
      "|2024-06-14|16:29:31.637| [WARNING] Raw data is None.\n",
      "|2024-06-14|16:29:31.637| [WARNING] Unknown scale (no objective_power or mpp)\n",
      "|2024-06-14|16:29:31.802| [WARNING] Raw data is None.\n",
      "|2024-06-14|16:29:31.802| [WARNING] Unknown scale (no objective_power or mpp)\n",
      "|2024-06-14|16:29:31.804| [WARNING] Raw data is None.\n",
      "|2024-06-14|16:29:31.805| [WARNING] Unknown scale (no objective_power or mpp)\n",
      "|2024-06-14|16:29:31.811| [WARNING] Raw data is None.\n",
      "|2024-06-14|16:29:31.811| [WARNING] Unknown scale (no objective_power or mpp)\n",
      "|2024-06-14|16:29:31.813| [WARNING] Raw data is None.\n",
      "|2024-06-14|16:29:31.813| [WARNING] Unknown scale (no objective_power or mpp)\n",
      "|2024-06-14|16:29:31.821| [WARNING] Raw data is None.\n",
      "|2024-06-14|16:29:31.821| [WARNING] Unknown scale (no objective_power or mpp)\n",
      "|2024-06-14|16:29:31.823| [WARNING] Raw data is None.\n",
      "|2024-06-14|16:29:31.823| [WARNING] Unknown scale (no objective_power or mpp)\n",
      "|2024-06-14|16:29:31.829| [WARNING] Raw data is None.\n",
      "|2024-06-14|16:29:31.829| [WARNING] Unknown scale (no objective_power or mpp)\n",
      "|2024-06-14|16:29:31.831| [WARNING] Raw data is None.\n",
      "|2024-06-14|16:29:31.831| [WARNING] Unknown scale (no objective_power or mpp)\n"
     ]
    },
    {
     "name": "stdout",
     "output_type": "stream",
     "text": [
      "231S_[51893, 17063, 53106, 18221].npy\n",
      "(1158, 1213, 5) uint8\n",
      "TCGA-A2-A0T0-01Z-00-DX1.npy\n",
      "(155, 144, 5) uint8\n",
      "TCGA-A2-A0T2-01Z-00-DX1.npy\n",
      "(147, 159, 5) uint8\n",
      "TCGA-A7-A0CE-01Z-00-DX1.npy\n",
      "(142, 151, 5) uint8\n",
      "TCGA-A7-A4SD-01Z-00-DX1.npy\n",
      "(144, 143, 5) uint8\n"
     ]
    },
    {
     "name": "stderr",
     "output_type": "stream",
     "text": [
      "|2024-06-14|16:29:31.840| [WARNING] Raw data is None.\n",
      "|2024-06-14|16:29:31.840| [WARNING] Unknown scale (no objective_power or mpp)\n",
      "|2024-06-14|16:29:31.842| [WARNING] Raw data is None.\n",
      "|2024-06-14|16:29:31.842| [WARNING] Unknown scale (no objective_power or mpp)\n",
      "|2024-06-14|16:29:31.848| [WARNING] Raw data is None.\n",
      "|2024-06-14|16:29:31.849| [WARNING] Unknown scale (no objective_power or mpp)\n",
      "|2024-06-14|16:29:31.851| [WARNING] Raw data is None.\n",
      "|2024-06-14|16:29:31.851| [WARNING] Unknown scale (no objective_power or mpp)\n",
      "|2024-06-14|16:29:31.865| [WARNING] Raw data is None.\n",
      "|2024-06-14|16:29:31.866| [WARNING] Unknown scale (no objective_power or mpp)\n",
      "|2024-06-14|16:29:31.869| [WARNING] Raw data is None.\n",
      "|2024-06-14|16:29:31.869| [WARNING] Unknown scale (no objective_power or mpp)\n",
      "|2024-06-14|16:29:31.882| [WARNING] Raw data is None.\n",
      "|2024-06-14|16:29:31.882| [WARNING] Unknown scale (no objective_power or mpp)\n",
      "|2024-06-14|16:29:31.884| [WARNING] Raw data is None.\n",
      "|2024-06-14|16:29:31.884| [WARNING] Unknown scale (no objective_power or mpp)\n",
      "|2024-06-14|16:29:31.893| [WARNING] Raw data is None.\n",
      "|2024-06-14|16:29:31.893| [WARNING] Unknown scale (no objective_power or mpp)\n",
      "|2024-06-14|16:29:31.895| [WARNING] Raw data is None.\n",
      "|2024-06-14|16:29:31.896| [WARNING] Unknown scale (no objective_power or mpp)\n",
      "|2024-06-14|16:29:31.912| [WARNING] Raw data is None.\n",
      "|2024-06-14|16:29:31.912| [WARNING] Unknown scale (no objective_power or mpp)\n",
      "|2024-06-14|16:29:31.915| [WARNING] Raw data is None.\n",
      "|2024-06-14|16:29:31.916| [WARNING] Unknown scale (no objective_power or mpp)\n",
      "|2024-06-14|16:29:31.941| [WARNING] Raw data is None.\n",
      "|2024-06-14|16:29:31.942| [WARNING] Unknown scale (no objective_power or mpp)\n",
      "|2024-06-14|16:29:31.944| [WARNING] Raw data is None.\n",
      "|2024-06-14|16:29:31.945| [WARNING] Unknown scale (no objective_power or mpp)\n",
      "|2024-06-14|16:29:31.952| [WARNING] Raw data is None.\n",
      "|2024-06-14|16:29:31.952| [WARNING] Unknown scale (no objective_power or mpp)\n",
      "|2024-06-14|16:29:31.954| [WARNING] Raw data is None.\n",
      "|2024-06-14|16:29:31.955| [WARNING] Unknown scale (no objective_power or mpp)\n",
      "|2024-06-14|16:29:31.962| [WARNING] Raw data is None.\n",
      "|2024-06-14|16:29:31.962| [WARNING] Unknown scale (no objective_power or mpp)\n",
      "|2024-06-14|16:29:31.965| [WARNING] Raw data is None.\n",
      "|2024-06-14|16:29:31.965| [WARNING] Unknown scale (no objective_power or mpp)\n",
      "|2024-06-14|16:29:31.973| [WARNING] Raw data is None.\n",
      "|2024-06-14|16:29:31.973| [WARNING] Unknown scale (no objective_power or mpp)\n",
      "|2024-06-14|16:29:31.976| [WARNING] Raw data is None.\n",
      "|2024-06-14|16:29:31.976| [WARNING] Unknown scale (no objective_power or mpp)\n",
      "|2024-06-14|16:29:31.991| [WARNING] Raw data is None.\n",
      "|2024-06-14|16:29:31.992| [WARNING] Unknown scale (no objective_power or mpp)\n",
      "|2024-06-14|16:29:31.995| [WARNING] Raw data is None.\n",
      "|2024-06-14|16:29:31.995| [WARNING] Unknown scale (no objective_power or mpp)\n",
      "|2024-06-14|16:29:32.009| [WARNING] Raw data is None.\n",
      "|2024-06-14|16:29:32.009| [WARNING] Unknown scale (no objective_power or mpp)\n",
      "|2024-06-14|16:29:32.011| [WARNING] Raw data is None.\n",
      "|2024-06-14|16:29:32.011| [WARNING] Unknown scale (no objective_power or mpp)\n",
      "|2024-06-14|16:29:32.031| [WARNING] Raw data is None.\n",
      "|2024-06-14|16:29:32.031| [WARNING] Unknown scale (no objective_power or mpp)\n",
      "|2024-06-14|16:29:32.035| [WARNING] Raw data is None.\n",
      "|2024-06-14|16:29:32.035| [WARNING] Unknown scale (no objective_power or mpp)\n"
     ]
    },
    {
     "name": "stdout",
     "output_type": "stream",
     "text": [
      "TCGA-A7-A4SE-01Z-00-DX1.npy\n",
      "(141, 129, 5) uint8\n",
      "TCGA-AC-A2BK-01Z-00-DX1.npy\n",
      "(144, 139, 5) uint8\n",
      "TCGA-AN-A0AR-01Z-00-DX1.npy\n",
      "(142, 134, 5) uint8\n",
      "TCGA-AN-A0G0-01Z-00-DX1.npy\n",
      "(160, 144, 5) uint8\n",
      "TCGA-AO-A0J2-01Z-00-DX1.npy\n",
      "(293, 287, 5) uint8\n",
      "TCGA-AO-A12F-01Z-00-DX1.npy\n",
      "(309, 307, 5) uint8\n",
      "TCGA-AQ-A54N-01Z-00-DX1.npy\n",
      "(152, 155, 5) uint8\n",
      "TCGA-AR-A0TU-01Z-00-DX1.npy\n",
      "(149, 152, 5) uint8\n",
      "TCGA-AR-A0U4-01Z-00-DX1.npy\n",
      "(146, 142, 5) uint8\n",
      "TCGA-BH-A0AV-01Z-00-DX1.npy\n",
      "(138, 145, 5) uint8\n",
      "TCGA-BH-A0B3-01Z-00-DX1.npy\n",
      "(143, 140, 5) uint8\n",
      "TCGA-BH-A0B9-01Z-00-DX1.npy\n",
      "(132, 149, 5) uint8\n",
      "TCGA-BH-A0E6-01Z-00-DX1.npy\n",
      "(134, 142, 5) uint8\n"
     ]
    },
    {
     "name": "stderr",
     "output_type": "stream",
     "text": [
      "|2024-06-14|16:29:32.043| [WARNING] Raw data is None.\n",
      "|2024-06-14|16:29:32.043| [WARNING] Unknown scale (no objective_power or mpp)\n",
      "|2024-06-14|16:29:32.046| [WARNING] Raw data is None.\n",
      "|2024-06-14|16:29:32.047| [WARNING] Unknown scale (no objective_power or mpp)\n",
      "|2024-06-14|16:29:32.061| [WARNING] Raw data is None.\n",
      "|2024-06-14|16:29:32.062| [WARNING] Unknown scale (no objective_power or mpp)\n",
      "|2024-06-14|16:29:32.064| [WARNING] Raw data is None.\n",
      "|2024-06-14|16:29:32.064| [WARNING] Unknown scale (no objective_power or mpp)\n",
      "|2024-06-14|16:29:32.072| [WARNING] Raw data is None.\n",
      "|2024-06-14|16:29:32.072| [WARNING] Unknown scale (no objective_power or mpp)\n",
      "|2024-06-14|16:29:32.074| [WARNING] Raw data is None.\n",
      "|2024-06-14|16:29:32.074| [WARNING] Unknown scale (no objective_power or mpp)\n",
      "|2024-06-14|16:29:32.081| [WARNING] Raw data is None.\n",
      "|2024-06-14|16:29:32.082| [WARNING] Unknown scale (no objective_power or mpp)\n",
      "|2024-06-14|16:29:32.084| [WARNING] Raw data is None.\n",
      "|2024-06-14|16:29:32.084| [WARNING] Unknown scale (no objective_power or mpp)\n",
      "|2024-06-14|16:29:32.091| [WARNING] Raw data is None.\n",
      "|2024-06-14|16:29:32.091| [WARNING] Unknown scale (no objective_power or mpp)\n",
      "|2024-06-14|16:29:32.093| [WARNING] Raw data is None.\n",
      "|2024-06-14|16:29:32.093| [WARNING] Unknown scale (no objective_power or mpp)\n",
      "|2024-06-14|16:29:32.100| [WARNING] Raw data is None.\n",
      "|2024-06-14|16:29:32.100| [WARNING] Unknown scale (no objective_power or mpp)\n",
      "|2024-06-14|16:29:32.103| [WARNING] Raw data is None.\n",
      "|2024-06-14|16:29:32.104| [WARNING] Unknown scale (no objective_power or mpp)\n",
      "|2024-06-14|16:29:32.112| [WARNING] Raw data is None.\n",
      "|2024-06-14|16:29:32.113| [WARNING] Unknown scale (no objective_power or mpp)\n",
      "|2024-06-14|16:29:32.114| [WARNING] Raw data is None.\n",
      "|2024-06-14|16:29:32.115| [WARNING] Unknown scale (no objective_power or mpp)\n",
      "|2024-06-14|16:29:32.123| [WARNING] Raw data is None.\n",
      "|2024-06-14|16:29:32.124| [WARNING] Unknown scale (no objective_power or mpp)\n",
      "|2024-06-14|16:29:32.127| [WARNING] Raw data is None.\n",
      "|2024-06-14|16:29:32.127| [WARNING] Unknown scale (no objective_power or mpp)\n",
      "|2024-06-14|16:29:32.147| [WARNING] Raw data is None.\n",
      "|2024-06-14|16:29:32.148| [WARNING] Unknown scale (no objective_power or mpp)\n",
      "|2024-06-14|16:29:32.150| [WARNING] Raw data is None.\n",
      "|2024-06-14|16:29:32.150| [WARNING] Unknown scale (no objective_power or mpp)\n"
     ]
    },
    {
     "name": "stdout",
     "output_type": "stream",
     "text": [
      "TCGA-D8-A13Z-01Z-00-DX1.npy\n",
      "(138, 144, 5) uint8\n",
      "TCGA-D8-A147-01Z-00-DX1.npy\n",
      "(143, 140, 5) uint8\n",
      "TCGA-D8-A1JF-01Z-00-DX1.npy\n",
      "(159, 137, 5) uint8\n",
      "TCGA-EW-A1OV-01Z-00-DX1.npy\n",
      "(154, 150, 5) uint8\n",
      "TCGA-EW-A1P1-01Z-00-DX1.npy\n",
      "(145, 142, 5) uint8\n",
      "TCGA-GM-A2DH-01Z-00-DX1.npy\n",
      "(146, 150, 5) uint8\n",
      "TCGA-LL-A5YO-01Z-00-DX1.npy\n",
      "(135, 141, 5) uint8\n",
      "TCGA-OL-A5RW-01Z-00-DX1.npy\n",
      "(280, 296, 5) uint8\n",
      "TC_S01_P000015_C0001_B104_[50898, 85713, 52270, 86889].npy\n",
      "(1176, 1372, 5) uint8\n"
     ]
    },
    {
     "name": "stderr",
     "output_type": "stream",
     "text": [
      "|2024-06-14|16:29:32.358| [WARNING] Raw data is None.\n",
      "|2024-06-14|16:29:32.358| [WARNING] Unknown scale (no objective_power or mpp)\n",
      "|2024-06-14|16:29:32.360| [WARNING] Raw data is None.\n",
      "|2024-06-14|16:29:32.360| [WARNING] Unknown scale (no objective_power or mpp)\n",
      "|2024-06-14|16:29:32.516| [WARNING] Raw data is None.\n",
      "|2024-06-14|16:29:32.517| [WARNING] Unknown scale (no objective_power or mpp)\n",
      "|2024-06-14|16:29:32.519| [WARNING] Raw data is None.\n",
      "|2024-06-14|16:29:32.519| [WARNING] Unknown scale (no objective_power or mpp)\n"
     ]
    },
    {
     "name": "stdout",
     "output_type": "stream",
     "text": [
      "TC_S01_P000015_C0001_B104_[63892, 85360, 65079, 86444].npy\n",
      "(1084, 1187, 5) uint8\n",
      "TC_S01_P000015_C0001_B104_[64395, 87751, 65649, 88824].npy\n",
      "(1073, 1254, 5) uint8\n"
     ]
    },
    {
     "name": "stderr",
     "output_type": "stream",
     "text": [
      "|2024-06-14|16:29:32.685| [WARNING] Raw data is None.\n",
      "|2024-06-14|16:29:32.685| [WARNING] Unknown scale (no objective_power or mpp)\n",
      "|2024-06-14|16:29:32.687| [WARNING] Raw data is None.\n",
      "|2024-06-14|16:29:32.688| [WARNING] Unknown scale (no objective_power or mpp)\n",
      "|2024-06-14|16:29:32.859| [WARNING] Raw data is None.\n",
      "|2024-06-14|16:29:32.859| [WARNING] Unknown scale (no objective_power or mpp)\n",
      "|2024-06-14|16:29:32.862| [WARNING] Raw data is None.\n",
      "|2024-06-14|16:29:32.862| [WARNING] Unknown scale (no objective_power or mpp)\n"
     ]
    },
    {
     "name": "stdout",
     "output_type": "stream",
     "text": [
      "TC_S01_P000054_C0001_B101_[20557, 96591, 21758, 97719].npy\n",
      "(1128, 1201, 5) uint8\n",
      "TC_S01_P000054_C0001_B101_[27671, 88267, 28946, 89493].npy\n",
      "(1226, 1275, 5) uint8\n"
     ]
    },
    {
     "name": "stderr",
     "output_type": "stream",
     "text": [
      "|2024-06-14|16:29:33.040| [WARNING] Raw data is None.\n",
      "|2024-06-14|16:29:33.040| [WARNING] Unknown scale (no objective_power or mpp)\n",
      "|2024-06-14|16:29:33.042| [WARNING] Raw data is None.\n",
      "|2024-06-14|16:29:33.042| [WARNING] Unknown scale (no objective_power or mpp)\n",
      "|2024-06-14|16:29:33.186| [WARNING] Raw data is None.\n",
      "|2024-06-14|16:29:33.186| [WARNING] Unknown scale (no objective_power or mpp)\n",
      "|2024-06-14|16:29:33.188| [WARNING] Raw data is None.\n",
      "|2024-06-14|16:29:33.189| [WARNING] Unknown scale (no objective_power or mpp)\n"
     ]
    },
    {
     "name": "stdout",
     "output_type": "stream",
     "text": [
      "TC_S01_P000054_C0001_B101_[28802, 78876, 29888, 79946].npy\n",
      "(1070, 1086, 5) uint8\n",
      "TC_S01_P000057_C0001_B105_[107951, 75246, 109161, 76317].npy\n",
      "(1071, 1210, 5) uint8\n"
     ]
    },
    {
     "name": "stderr",
     "output_type": "stream",
     "text": [
      "|2024-06-14|16:29:33.364| [WARNING] Raw data is None.\n",
      "|2024-06-14|16:29:33.364| [WARNING] Unknown scale (no objective_power or mpp)\n",
      "|2024-06-14|16:29:33.366| [WARNING] Raw data is None.\n",
      "|2024-06-14|16:29:33.367| [WARNING] Unknown scale (no objective_power or mpp)\n",
      "|2024-06-14|16:29:33.533| [WARNING] Raw data is None.\n",
      "|2024-06-14|16:29:33.534| [WARNING] Unknown scale (no objective_power or mpp)\n",
      "|2024-06-14|16:29:33.536| [WARNING] Raw data is None.\n",
      "|2024-06-14|16:29:33.536| [WARNING] Unknown scale (no objective_power or mpp)\n"
     ]
    },
    {
     "name": "stdout",
     "output_type": "stream",
     "text": [
      "TC_S01_P000057_C0001_B105_[112700, 64564, 113976, 65709].npy\n",
      "(1145, 1276, 5) uint8\n",
      "TC_S01_P000057_C0001_B105_[92616, 75953, 93709, 77000].npy\n",
      "(1047, 1093, 5) uint8\n"
     ]
    },
    {
     "name": "stderr",
     "output_type": "stream",
     "text": [
      "|2024-06-14|16:29:33.706| [WARNING] Raw data is None.\n",
      "|2024-06-14|16:29:33.706| [WARNING] Unknown scale (no objective_power or mpp)\n",
      "|2024-06-14|16:29:33.710| [WARNING] Raw data is None.\n",
      "|2024-06-14|16:29:33.711| [WARNING] Unknown scale (no objective_power or mpp)\n",
      "|2024-06-14|16:29:33.903| [WARNING] Raw data is None.\n",
      "|2024-06-14|16:29:33.904| [WARNING] Unknown scale (no objective_power or mpp)\n"
     ]
    },
    {
     "name": "stdout",
     "output_type": "stream",
     "text": [
      "TC_S01_P000147_C0001_B104_[23485, 67614, 24676, 68722].npy\n",
      "(1108, 1191, 5) uint8\n",
      "TC_S01_P000147_C0001_B104_[31102, 58696, 32133, 59655].npy\n",
      "(959, 1031, 5) uint8\n"
     ]
    },
    {
     "name": "stderr",
     "output_type": "stream",
     "text": [
      "|2024-06-14|16:29:33.907| [WARNING] Raw data is None.\n",
      "|2024-06-14|16:29:33.907| [WARNING] Unknown scale (no objective_power or mpp)\n",
      "|2024-06-14|16:29:34.054| [WARNING] Raw data is None.\n",
      "|2024-06-14|16:29:34.055| [WARNING] Unknown scale (no objective_power or mpp)\n",
      "|2024-06-14|16:29:34.057| [WARNING] Raw data is None.\n",
      "|2024-06-14|16:29:34.057| [WARNING] Unknown scale (no objective_power or mpp)\n",
      "|2024-06-14|16:29:34.222| [WARNING] Raw data is None.\n",
      "|2024-06-14|16:29:34.222| [WARNING] Unknown scale (no objective_power or mpp)\n",
      "|2024-06-14|16:29:34.225| [WARNING] Raw data is None.\n",
      "|2024-06-14|16:29:34.226| [WARNING] Unknown scale (no objective_power or mpp)\n"
     ]
    },
    {
     "name": "stdout",
     "output_type": "stream",
     "text": [
      "TC_S01_P000147_C0001_B104_[44555, 80802, 45637, 81863].npy\n",
      "(1061, 1082, 5) uint8\n",
      "TC_S01_P000158_C0001_B101_[102793, 79018, 104054, 80142].npy\n",
      "(1124, 1261, 5) uint8\n"
     ]
    },
    {
     "name": "stderr",
     "output_type": "stream",
     "text": [
      "|2024-06-14|16:29:34.427| [WARNING] Raw data is None.\n",
      "|2024-06-14|16:29:34.428| [WARNING] Unknown scale (no objective_power or mpp)\n",
      "|2024-06-14|16:29:34.430| [WARNING] Raw data is None.\n",
      "|2024-06-14|16:29:34.431| [WARNING] Unknown scale (no objective_power or mpp)\n"
     ]
    },
    {
     "name": "stdout",
     "output_type": "stream",
     "text": [
      "TC_S01_P000158_C0001_B101_[103602, 82756, 104838, 83891].npy\n",
      "(1135, 1236, 5) uint8\n"
     ]
    },
    {
     "name": "stderr",
     "output_type": "stream",
     "text": [
      "|2024-06-14|16:29:34.634| [WARNING] Raw data is None.\n",
      "|2024-06-14|16:29:34.634| [WARNING] Unknown scale (no objective_power or mpp)\n",
      "|2024-06-14|16:29:34.636| [WARNING] Raw data is None.\n",
      "|2024-06-14|16:29:34.636| [WARNING] Unknown scale (no objective_power or mpp)\n"
     ]
    },
    {
     "name": "stdout",
     "output_type": "stream",
     "text": [
      "TC_S01_P000158_C0001_B101_[114472, 87563, 115698, 88757].npy\n",
      "(1194, 1226, 5) uint8\n"
     ]
    }
   ],
   "source": [
    "fold = 5\n",
    "fold_save_dir = os.path.join(save_dir, f\"fold_{fold}\")\n",
    "os.makedirs(fold_save_dir, exist_ok=True)\n",
    "\n",
    "fold_tile_dir = os.path.join(tile_dir, f\"fold_{fold}\")\n",
    "fold_files = os.listdir(fold_tile_dir)\n",
    "\n",
    "\n",
    "for tile_file in tqdm(fold_files):\n",
    "    print(tile_file)\n",
    "    tile_path = os.path.join(fold_tile_dir, tile_file)\n",
    "    tile = np.load(tile_path)\n",
    "    print(tile.shape, tile.dtype)\n",
    "\n",
    "    tile_img = tile[:, :, 0:3]\n",
    "    mask = tile[:, :, 3]\n",
    "    # mask = erode_cell_mask(mask)\n",
    "\n",
    "    if tile_img.shape[0] < 128 and tile_img.shape[1] < 128:\n",
    "        tile_img = img_to_shape(tile_img, (128, 128))\n",
    "        mask = mask_to_shape(mask, (128, 128))\n",
    "\n",
    "    # xs, ys = get_cell_centers(mask)\n",
    "    # fig, axes = plt.subplots(1,2)\n",
    "    # axes[0].imshow(tile_img)\n",
    "    # axes[0].scatter(xs, ys, s=3, alpha=0.5, color='red')\n",
    "    # axes[1].imshow(mask)\n",
    "    # plt.show()\n",
    "\n",
    "    patch_result = extract_cell_img_mask(tile_img, mask, tile_file)\n",
    "\n",
    "    for result in patch_result.items():\n",
    "        fn = result[0]\n",
    "        patch = result[1]\n",
    "\n",
    "        save_path = os.path.join(fold_save_dir, fn)\n",
    "        np.save(save_path, patch)\n",
    "        # print(fn)\n",
    "        # fig, axes = plt.subplots(1,2)\n",
    "        # rgb = patch[:,:,0:3]\n",
    "        # mask = patch[:,:,3]\n",
    "        # axes[0].imshow(rgb, alpha=1)\n",
    "        # axes[0].imshow(mask, cmap='gray', alpha=0.4)\n",
    "        # axes[1].imshow(mask)\n",
    "        # plt.show()"
   ]
  },
  {
   "cell_type": "code",
   "execution_count": null,
   "metadata": {},
   "outputs": [],
   "source": []
  }
 ],
 "metadata": {
  "kernelspec": {
   "display_name": "tiatoolbox",
   "language": "python",
   "name": "python3"
  },
  "language_info": {
   "codemirror_mode": {
    "name": "ipython",
    "version": 3
   },
   "file_extension": ".py",
   "mimetype": "text/x-python",
   "name": "python",
   "nbconvert_exporter": "python",
   "pygments_lexer": "ipython3",
   "version": "3.11.5"
  }
 },
 "nbformat": 4,
 "nbformat_minor": 2
}
