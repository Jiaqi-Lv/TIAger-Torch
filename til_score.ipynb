{
 "cells": [
  {
   "cell_type": "code",
   "execution_count": null,
   "metadata": {},
   "outputs": [],
   "source": [
    "import os\n",
    "from pprint import pprint\n",
    "import torch\n",
    "from tiatoolbox.wsicore.wsireader import VirtualWSIReader, WSIReader\n",
    "from tiatoolbox.tools.patchextraction import get_patch_extractor\n",
    "from tissue_masker_lite import get_mask\n",
    "import matplotlib.pyplot as plt\n",
    "import numpy as np\n",
    "from tiatoolbox.models.engine.semantic_segmentor import SemanticSegmentor\n",
    "import segmentation_models_pytorch as smp\n",
    "from tqdm.auto import tqdm\n",
    "import cv2\n",
    "import pickle\n",
    "import skimage\n",
    "import cv2\n",
    "import skimage.measure"
   ]
  },
  {
   "cell_type": "code",
   "execution_count": null,
   "metadata": {},
   "outputs": [],
   "source": [
    "wsi_name = \"105S.tif\"\n",
    "wsi_without_ext = os.path.splitext(wsi_name)[0]\n",
    "masks_dir = \"/home/u1910100/GitHub/TIAger-Torch/output/seg_out\"\n",
    "tumor_stroma_mask_path = os.path.join(masks_dir, f\"{wsi_without_ext}_tumor_stroma.npy\")\n",
    "\n",
    "tumor_stroma_mask = np.load(tumor_stroma_mask_path)\n",
    "\n",
    "plt.imshow(tumor_stroma_mask)\n",
    "plt.show()"
   ]
  },
  {
   "cell_type": "code",
   "execution_count": null,
   "metadata": {},
   "outputs": [],
   "source": [
    "wsi_dir = \"/home/u1910100/Documents/Tiger_Data/wsitils/images/\"\n",
    "wsi_path = os.path.join(wsi_dir, wsi_name)\n",
    "wsi = WSIReader.open(wsi_path)\n",
    "\n",
    "patch_extractor = get_patch_extractor(\n",
    "    input_img=wsi,\n",
    "    method_name=\"slidingwindow\",\n",
    "    patch_size=(1024, 1024),\n",
    "    resolution=20,\n",
    "    units=\"power\",\n",
    "    input_mask=tumor_stroma_mask,\n",
    ")\n",
    "\n",
    "patch_1 = patch_extractor[0]"
   ]
  },
  {
   "cell_type": "code",
   "execution_count": null,
   "metadata": {},
   "outputs": [],
   "source": [
    "def count_tils_in_tile(tile_image):\n",
    "    tile_reader = VirtualWSIReader(tile_image, power=20)\n",
    "\n",
    "    patch_extractor = get_patch_extractor(\n",
    "        input_img=tile_reader,\n",
    "        method_name=\"slidingwindow\",\n",
    "        patch_size=(128, 128),\n",
    "        stride=(28,28),\n",
    "        resolution=20,\n",
    "        units=\"power\",\n",
    "    )\n",
    "\n",
    "    print(len(patch_extractor))\n",
    "    for i in range(0,50):\n",
    "        plt.imshow(patch_extractor[i])\n",
    "        plt.show()"
   ]
  },
  {
   "cell_type": "code",
   "execution_count": null,
   "metadata": {},
   "outputs": [],
   "source": [
    "count_tils_in_tile(patch_1)"
   ]
  }
 ],
 "metadata": {
  "kernelspec": {
   "display_name": "TIAToolBox",
   "language": "python",
   "name": "python3"
  },
  "language_info": {
   "codemirror_mode": {
    "name": "ipython",
    "version": 3
   },
   "file_extension": ".py",
   "mimetype": "text/x-python",
   "name": "python",
   "nbconvert_exporter": "python",
   "pygments_lexer": "ipython3",
   "version": "3.11.5"
  }
 },
 "nbformat": 4,
 "nbformat_minor": 2
}
